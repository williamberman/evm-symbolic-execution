{
 "cells": [
  {
   "cell_type": "markdown",
   "id": "66e7627a",
   "metadata": {},
   "source": [
    "# EVM Symbolic Execution\n",
    "\n",
    "Our goal is to add symbolic execution to a rust based implementation of the EVM.\n",
    "\n",
    "## Symbolic execution in the large\n",
    "Symbolic execution is a general (not EVM specific) program analysis technique.\n",
    "- [Symbolic Execution Introduction](https://en.wikipedia.org/wiki/Symbolic_execution) read the intro paragraph and the example.\n",
    "- [Symbolic Execution Lecture](https://www.youtube.com/watch?v=yRVZPvHYHzw) watch the whole thing. You should follow most all of it before you continue.\n",
    "\n",
    "Symbolic execution also has applications to the EVM. It can be used to find conditions that lead to assertion violations as well as other use cases. \n",
    "- [HEVM Symbolic Execution](https://fv.ethereum.org/2020/07/28/symbolic-hevm-release/) read the full post but do not attempt to understand everything.\n",
    "- [Dapptools testing integration](https://youtu.be/N9pJ9JieX10?t=990) Watch the linked timestamp to see how dapptools uses hevm to symbolically search for assertion failures\n",
    "\n",
    "All symbolic execution implementations rely on an SMT Solver. You should have a basic understanding of the SMT Solver's role from the Symbolic Execution Lecture. We will be using Z3 for our examples because it has a nice python library. For our actual implementation we will be as solver agnostic as possible.\n",
    "- [Z3 tutorial](https://theory.stanford.edu/~nikolaj/programmingz3.html) Read all of section 2 and sections 3.1-3.4. We will not be too deep in the weeds of the solver so focus on intuition instead of formal understanding. Feel free to play with some of the code samples.\n",
    "\n",
    "## Vocabulary\n",
    "- Concrete value - A value that is known at runtime. When concrete values are combined with other concrete values, the result is also concrete.\n",
    "- Symbolic value - A value that is not known at runtime. Symbolic values still have known and fixed types. When symbolic values are combined with both concrete and symbolic values, the result is also symbolic.\n",
    "- Memory model - How memory is represented so that it can hold symbolic values. \"Memory\" in the general sense of all readable and writable storage locations. I.e. for the EVM, the memory model refers to memory, storage, calldata, and code.\n",
    "- Concrete instruction - An instruction that only operates on concrete values.\n",
    "- Symbolic Instruction - An instruction that can operates on symbolic values, concrete values, and combinations of the two.\n",
    "- (Path) Constraint set - The set of constraints collected while executing the program. They constrain the set of possible concrete values that the symbolic values can represent.\n",
    "- Machine state - Abstract term referring to the current state of (a single) execution of the program. This includes the state of the memory mode, the constraint set, program counter, etc...\n",
    "- Interpreter - The function that takes in one machine state, executes an instruction, and returns multiple machine states. If the returning multiple machine states part confuses you, that's ok, assume it returns a single updated machine state for now.\n",
    "- Runtime - Abstract term referring to the code orchestrating the memory model, interpreter, and machine state to compute.\n",
    "- Solver - The SMT solver that is used to check if constraints can be satisfied.\n",
    "- Satisfied - There exists a possible solution to the set of constraints given. A solution can be used to replace symbolic values with concrete values that would lead to the current machine state.\n",
    "- Unsatisfied - The solver could not find a solution to the set of constraints given. An unsatisfied set of constraints is used to assume that the current machine state cannot exist and it should not be explored further. Note that this doesn't mean that one doesn't exist and can be a false negative.\n",
    "\n",
    "\n",
    "## Symbolic execution in the small\n",
    "We are going to walk through some examples of implementing symbolic execution against an EVM-like assembly language. \n",
    "\n",
    "All symbolic execution implementations follow a common pattern of taking an existing program runtime that executes over concrete values and modifying it such that...\n",
    "- All concrete readable and writable values are replaced with a memory model that handles symbolic values.\n",
    "- The interpreter executes symbolic instructions\n",
    "- The machine state tracks path constraints\n",
    "- The runtime can pass a set of path constraints to a solver to check for satisfiability\n",
    "- The Runtime can handle multiple concurrent machine states (ok if you don't understand why right now)\n",
    "\n",
    "We are going to work our way up from simpler machines to more complex machines adding incremental symbolic execution functionality as needed.\n",
    "\n",
    "One important thing to note is that there is not one way to implement symbolic execution and symbolic execution is not all or nothing. You can force parts of the runtime to only execute over concrete values and in fact frequently we do for performance reasons.\n",
    "\n",
    "Note that all python code runs on Python 3.10 and we use the library [z3-solver](https://pypi.org/project/z3-solver/) to interact with Z3."
   ]
  },
  {
   "cell_type": "markdown",
   "id": "7b665171",
   "metadata": {},
   "source": [
    "### Arithmetic operations on stack values\n",
    "Our first example will be assuming that our language has ADD and SUB instructions that operate on the stack. For simplicity sake, we will assume that we can store actual integers on the stack and not fixed width bit representations of integers. We consider the \"result\" of the program to be the item on the top of the stack when the program ends. Take this simple implementation."
   ]
  },
  {
   "cell_type": "code",
   "execution_count": 1,
   "id": "bc4a0405",
   "metadata": {},
   "outputs": [],
   "source": [
    "from dataclasses import dataclass\n",
    "\n",
    "@dataclass\n",
    "class ADD:\n",
    "    pass\n",
    "\n",
    "@dataclass\n",
    "class SUB:\n",
    "    pass\n",
    "\n",
    "@dataclass\n",
    "class PUSH:\n",
    "    n: int\n",
    "\n",
    "class StackArith:\n",
    "    def __init__(self, code):\n",
    "        self.pc = 0\n",
    "        self.code = code\n",
    "        self.stack = []\n",
    "        \n",
    "    def step(self):\n",
    "        instruction = self.code[self.pc]\n",
    "        self.pc += 1\n",
    "        match instruction:\n",
    "            case ADD():\n",
    "                self.stack.append(self.stack.pop() + self.stack.pop())\n",
    "            case SUB():\n",
    "                self.stack.append(self.stack.pop() - self.stack.pop())\n",
    "            case PUSH(n):\n",
    "                self.stack.append(n)\n",
    "            case _:\n",
    "                assert False\n",
    "                \n",
    "    def run(self):\n",
    "        while self.pc < len(self.code):\n",
    "            self.step()\n",
    "        return self.stack[-1]"
   ]
  },
  {
   "cell_type": "markdown",
   "id": "d4ffa35e",
   "metadata": {},
   "source": [
    "We can compute things!"
   ]
  },
  {
   "cell_type": "code",
   "execution_count": 2,
   "id": "14d84cd6",
   "metadata": {},
   "outputs": [
    {
     "data": {
      "text/plain": [
       "4"
      ]
     },
     "execution_count": 2,
     "metadata": {},
     "output_type": "execute_result"
    }
   ],
   "source": [
    "# (3 + 2) - 1 -> 4\n",
    "m = StackArith([PUSH(1), PUSH(2), PUSH(3), ADD(), SUB()])\n",
    "m.run()"
   ]
  },
  {
   "cell_type": "markdown",
   "id": "75bec4aa",
   "metadata": {},
   "source": [
    "Now what happens when we put symbolic values on the stack. Note that we don't have to change the implementation. This is because the z3 objects implement their own `+` method."
   ]
  },
  {
   "cell_type": "code",
   "execution_count": 3,
   "id": "1587bf1c",
   "metadata": {},
   "outputs": [
    {
     "data": {
      "text/html": [
       "z + y - x"
      ],
      "text/plain": [
       "z + y - x"
      ]
     },
     "execution_count": 3,
     "metadata": {},
     "output_type": "execute_result"
    }
   ],
   "source": [
    "from z3 import *\n",
    "m = StackArith([PUSH(Int('x')), PUSH(Int('y')), PUSH(Int('z')), ADD(), SUB()])\n",
    "m.run()"
   ]
  },
  {
   "cell_type": "markdown",
   "id": "ce7da14b",
   "metadata": {},
   "source": [
    "The result of the computation is also symbolic. Note that the z3 library prints a nice string representation of the compound symbolic value. The actual type of the python value is from the Z3 package and the sort is still int. \"Sorts\"  are the Z3 equivalent of type (is this actually true?). Really \"sort\" comes from smtlib and not Z3 but that's getting ahead of ourselves."
   ]
  },
  {
   "cell_type": "code",
   "execution_count": 4,
   "id": "34186ffa",
   "metadata": {},
   "outputs": [
    {
     "name": "stdout",
     "output_type": "stream",
     "text": [
      "<class 'z3.z3.ArithRef'>\n",
      "Int\n"
     ]
    }
   ],
   "source": [
    "m = StackArith([PUSH(Int('x')), PUSH(Int('y')), PUSH(Int('z')), ADD(), SUB()])\n",
    "res = m.run()\n",
    "print(res.__class__)\n",
    "print(res.sort())"
   ]
  },
  {
   "cell_type": "markdown",
   "id": "37797e11",
   "metadata": {},
   "source": [
    "We can also include concrete values on the stack, so the returned value contains both symbolic and concrete values."
   ]
  },
  {
   "cell_type": "code",
   "execution_count": 5,
   "id": "2e9d29c2",
   "metadata": {},
   "outputs": [
    {
     "data": {
      "text/html": [
       "3 + y - x"
      ],
      "text/plain": [
       "3 + y - x"
      ]
     },
     "execution_count": 5,
     "metadata": {},
     "output_type": "execute_result"
    }
   ],
   "source": [
    "m = StackArith([PUSH(Int('x')), PUSH(Int('y')), PUSH(3), ADD(), SUB()])\n",
    "m.run()"
   ]
  },
  {
   "cell_type": "markdown",
   "id": "f914b884",
   "metadata": {},
   "source": [
    "Just computing on symbolic values can be helpful in certain circumstances, but we want to be able to ask the question \"what inputs do I have to pass this program for it to give this output\". Let's add an additional instruction `ASSERT(n)` that adds the constraint that the top item on the stack is equal to its argument."
   ]
  },
  {
   "cell_type": "code",
   "execution_count": 6,
   "id": "be0929dd",
   "metadata": {},
   "outputs": [],
   "source": [
    "from dataclasses import dataclass\n",
    "from z3 import *\n",
    "\n",
    "@dataclass\n",
    "class ADD:\n",
    "    pass\n",
    "\n",
    "@dataclass\n",
    "class SUB:\n",
    "    pass\n",
    "\n",
    "@dataclass\n",
    "class PUSH:\n",
    "    n: int\n",
    "        \n",
    "@dataclass\n",
    "class ASSERT:\n",
    "    n: int\n",
    "\n",
    "class SymStackArith:\n",
    "    def __init__(self, code):\n",
    "        self.pc = 0\n",
    "        self.code = code\n",
    "        self.stack = []\n",
    "        # XXX We add the set of constraints to the machine state\n",
    "        # Solver is the object from the z3 package that can be used\n",
    "        # to hold constraints\n",
    "        self.constraints = Solver()\n",
    "        \n",
    "    def step(self):\n",
    "        instruction = self.code[self.pc]\n",
    "        self.pc += 1\n",
    "        match instruction:\n",
    "            case ADD():\n",
    "                self.stack.append(self.stack.pop() + self.stack.pop())\n",
    "            case SUB():\n",
    "                self.stack.append(self.stack.pop() - self.stack.pop())\n",
    "            case PUSH(n):\n",
    "                self.stack.append(n)\n",
    "            case ASSERT(n):\n",
    "                # XXX We add the constraint to the machine state.\n",
    "                self.constraints.add(self.stack[-1] == n)\n",
    "            case _:\n",
    "                assert False\n",
    "            \n",
    "    # TODO change to (the concrete value, the symbolic value, the model) here and for other examples\n",
    "    # Returns: (The symbolic value, the concrete value (if satisfiable), the model (if satisfiable))\n",
    "    def run(self):\n",
    "        while self.pc < len(self.code):\n",
    "            self.step()\n",
    "            \n",
    "        # XXX We check if the set of constraints is satisfiable.\n",
    "        rv = self.stack[-1]\n",
    "        if self.constraints.check() == sat:\n",
    "            model = self.constraints.model()\n",
    "            eval_rv = rv if isinstance(rv, int) else model.eval(rv)\n",
    "            return rv, eval_rv, model\n",
    "        else:\n",
    "            # The set of constraints is not satisfiable. There is no\n",
    "            # model or concrete value to return\n",
    "            return rv, None, None"
   ]
  },
  {
   "cell_type": "code",
   "execution_count": 7,
   "id": "0411e7e3",
   "metadata": {},
   "outputs": [
    {
     "data": {
      "text/plain": [
       "(z + y - x, 5, [y = 0, x = 0, z = 5])"
      ]
     },
     "execution_count": 7,
     "metadata": {},
     "output_type": "execute_result"
    }
   ],
   "source": [
    "m = SymStackArith([PUSH(Int('x')), PUSH(Int('y')), PUSH(Int('z')), ADD(), SUB(), ASSERT(5)])\n",
    "m.run()"
   ]
  },
  {
   "cell_type": "markdown",
   "id": "8e1d3005",
   "metadata": {},
   "source": [
    "The answer here is not terribly interesting, but it tells us that replacing x, y, and z with 0, 0, and 5 respectively will result in the final value on the stack being equal to 5. We can confirm this by re-running the same machine with the concrete values."
   ]
  },
  {
   "cell_type": "code",
   "execution_count": 8,
   "id": "232706dc",
   "metadata": {},
   "outputs": [
    {
     "data": {
      "text/plain": [
       "(5, 5, [])"
      ]
     },
     "execution_count": 8,
     "metadata": {},
     "output_type": "execute_result"
    }
   ],
   "source": [
    "m = SymStackArith([PUSH(0), PUSH(0), PUSH(5), ADD(), SUB()])\n",
    "m.run()"
   ]
  },
  {
   "cell_type": "markdown",
   "id": "e9ca100d",
   "metadata": {},
   "source": [
    "What happens when the solution is not satisfiable? Let's try a basic example where we assert one symbolic value to be equal to two different concrete values"
   ]
  },
  {
   "cell_type": "code",
   "execution_count": 9,
   "id": "4c057b0a",
   "metadata": {},
   "outputs": [
    {
     "data": {
      "text/plain": [
       "(x, None, None)"
      ]
     },
     "execution_count": 9,
     "metadata": {},
     "output_type": "execute_result"
    }
   ],
   "source": [
    "m = SymStackArith([PUSH(Int('x')), ASSERT(1), ASSERT(2)])\n",
    "m.run()"
   ]
  },
  {
   "cell_type": "markdown",
   "id": "7846cbac",
   "metadata": {},
   "source": [
    "The constraint solver tells us that no possible concret value of `x` can satisfy both constraints."
   ]
  },
  {
   "cell_type": "markdown",
   "id": "02f40587",
   "metadata": {},
   "source": [
    "### Read only memory\n",
    "\n",
    "Our next example will be adding readonly memory to the machine. In the concrete machine, memory will be represented with a python list that is passed into the machine. The machine will not modify the list. We will add an `MLOAD` instruction to read from the memory."
   ]
  },
  {
   "cell_type": "code",
   "execution_count": 10,
   "id": "39e07392",
   "metadata": {},
   "outputs": [],
   "source": [
    "from dataclasses import dataclass\n",
    "\n",
    "@dataclass\n",
    "class ADD:\n",
    "    pass\n",
    "\n",
    "@dataclass\n",
    "class SUB:\n",
    "    pass\n",
    "\n",
    "@dataclass\n",
    "class PUSH:\n",
    "    n: int\n",
    "        \n",
    "@dataclass\n",
    "class MLOAD:\n",
    "    pass\n",
    "\n",
    "class ReadonlyMem:\n",
    "    def __init__(self, code, memory):\n",
    "        self.pc = 0\n",
    "        self.code = code\n",
    "        self.stack = []\n",
    "        self.memory = memory\n",
    "        \n",
    "    def step(self):\n",
    "        instruction = self.code[self.pc]\n",
    "        self.pc += 1\n",
    "        match instruction:\n",
    "            case ADD():\n",
    "                self.stack.append(self.stack.pop() + self.stack.pop())\n",
    "            case SUB():\n",
    "                self.stack.append(self.stack.pop() - self.stack.pop())\n",
    "            case PUSH(n):\n",
    "                self.stack.append(n)\n",
    "            case MLOAD():\n",
    "                # XXX\n",
    "                self.stack.append(self.memory[self.stack.pop()])\n",
    "            case _:\n",
    "                assert False\n",
    "                \n",
    "    def run(self):\n",
    "        while self.pc < len(self.code):\n",
    "            self.step()\n",
    "        return self.stack[-1]"
   ]
  },
  {
   "cell_type": "markdown",
   "id": "f1d5b2df",
   "metadata": {},
   "source": [
    "In this modified example, we now put the initial operand in memory and load it from memory before performing the addition."
   ]
  },
  {
   "cell_type": "code",
   "execution_count": 11,
   "id": "7c278cba",
   "metadata": {},
   "outputs": [
    {
     "data": {
      "text/plain": [
       "4"
      ]
     },
     "execution_count": 11,
     "metadata": {},
     "output_type": "execute_result"
    }
   ],
   "source": [
    "mem = [0 for x in range(5)]\n",
    "mem[4] = 3\n",
    "# (mem[4] + 2) - 1\n",
    "# -> (3 + 2) - 1 \n",
    "# -> 4\n",
    "m = ReadonlyMem([PUSH(1), PUSH(2), PUSH(4), MLOAD(), ADD(), SUB()], mem)\n",
    "m.run()"
   ]
  },
  {
   "cell_type": "markdown",
   "id": "6c94e85f",
   "metadata": {},
   "source": [
    "Converting stack based arithmetic operations to symbolic was rather straight forward. They are operations, they take operands. In order to pass symbolic operands instead of concrete operands, the stack has to be able to hold symbolic values. \n",
    "\n",
    "Symbolic memory is more complicated because the memory can hold symbolic values, the memory can be indexed at symbolic values, and even the length of memory can be symbolic. This can be hard to conceptualize so we will incrementally add symbolic features to concrete memory. This is a common theme when figuring out how to implement symbolic execution. We start with adding simple symbolic features and incrementally add more symbolic features.\n",
    "\n",
    "The simplest symbolic feature we can add is letting memory store symbolic values. Because the only major change from `ReadonlyMem` is that the stack and memory can hold symbolic values, we add an assertion that the memory index is concrete in `MLOAD`."
   ]
  },
  {
   "cell_type": "code",
   "execution_count": 12,
   "id": "b732b508",
   "metadata": {},
   "outputs": [],
   "source": [
    "from dataclasses import dataclass\n",
    "from z3 import *\n",
    "\n",
    "@dataclass\n",
    "class ADD:\n",
    "    pass\n",
    "\n",
    "@dataclass\n",
    "class SUB:\n",
    "    pass\n",
    "\n",
    "@dataclass\n",
    "class PUSH:\n",
    "    n: int\n",
    "        \n",
    "@dataclass\n",
    "class MLOAD:\n",
    "    pass\n",
    "\n",
    "@dataclass\n",
    "class ASSERT:\n",
    "    n: int\n",
    "\n",
    "class SymReadonlyMem:\n",
    "    def __init__(self, code, memory):\n",
    "        self.pc = 0\n",
    "        self.code = code\n",
    "        self.stack = []\n",
    "        self.memory = memory\n",
    "        self.constraints = Solver()\n",
    "        \n",
    "    def step(self):\n",
    "        instruction = self.code[self.pc]\n",
    "        self.pc += 1\n",
    "        match instruction:\n",
    "            case ADD():\n",
    "                self.stack.append(self.stack.pop() + self.stack.pop())\n",
    "            case SUB():\n",
    "                self.stack.append(self.stack.pop() - self.stack.pop())\n",
    "            case PUSH(n):\n",
    "                self.stack.append(n)\n",
    "            case MLOAD():\n",
    "                # XXX\n",
    "                idx = self.stack.pop()\n",
    "                assert isinstance(idx, int), 'MLOAD: requires concrete index'\n",
    "                self.stack.append(self.memory[idx])\n",
    "            case ASSERT(n):\n",
    "                self.constraints.add(self.stack[-1] == n)                \n",
    "            case _:\n",
    "                assert False\n",
    "                \n",
    "    def run(self):\n",
    "        while self.pc < len(self.code):\n",
    "            self.step()\n",
    "\n",
    "        rv = self.stack[-1]\n",
    "        if self.constraints.check() == sat:\n",
    "            model = self.constraints.model()\n",
    "            eval_rv = rv if isinstance(rv, int) else model.eval(rv)            \n",
    "            return rv, eval_rv, model\n",
    "        else:\n",
    "            return rv, None, None"
   ]
  },
  {
   "cell_type": "markdown",
   "id": "f3e23dd5",
   "metadata": {},
   "source": [
    "Let's modify the previous example to now read a symbolic value from memory."
   ]
  },
  {
   "cell_type": "code",
   "execution_count": 13,
   "id": "797646eb",
   "metadata": {},
   "outputs": [
    {
     "data": {
      "text/plain": [
       "(z + 2 - 1, 4, [z = 3])"
      ]
     },
     "execution_count": 13,
     "metadata": {},
     "output_type": "execute_result"
    }
   ],
   "source": [
    "mem = [0 for x in range(5)]\n",
    "mem[4] = Int('z')\n",
    "m = SymReadonlyMem([PUSH(1), PUSH(2), PUSH(4), MLOAD(), ADD(), SUB(), ASSERT(4)], mem)\n",
    "m.run()"
   ]
  },
  {
   "cell_type": "markdown",
   "id": "e2f9d24e",
   "metadata": {},
   "source": [
    "We now get runtime errors when we try to read memory at a symbolic index"
   ]
  },
  {
   "cell_type": "code",
   "execution_count": 14,
   "id": "719f37bf",
   "metadata": {},
   "outputs": [
    {
     "name": "stdout",
     "output_type": "stream",
     "text": [
      "MLOAD: requires concrete index\n"
     ]
    }
   ],
   "source": [
    "mem = [0 for x in range(5)]\n",
    "m = SymReadonlyMem([PUSH(Int('x')), MLOAD()], mem)\n",
    "try:\n",
    "    m.run()\n",
    "except AssertionError as e:\n",
    "    print(e)"
   ]
  },
  {
   "cell_type": "markdown",
   "id": "a3c2dde6",
   "metadata": {},
   "source": [
    "If we want to read from memory at symbolic indices, we can't use a python list to represent memory. We have to use an SMT solver primitive called an uninterpreted function. Re-read [this section](https://theory.stanford.edu/~nikolaj/programmingz3.html#sec-euf--equality-and-uninterpreted-functions) if you need a refresher. The tl;dr is that uninterpreted functions can be used to model constraints on [mathematical functions](https://en.wikipedia.org/wiki/Function_(mathematics)) without worrying about the internals of how the function might be implemented. (TODO this could probably use some work) \n",
    "\n",
    "Because the uninterpreted function has to be defined over its entire domain, and the domain is the entire set of integers, we are saying that this machine has unbounded memory. We'll solve that later."
   ]
  },
  {
   "cell_type": "code",
   "execution_count": 15,
   "id": "e176676f",
   "metadata": {},
   "outputs": [],
   "source": [
    "from dataclasses import dataclass\n",
    "from z3 import *\n",
    "\n",
    "@dataclass\n",
    "class ADD:\n",
    "    pass\n",
    "\n",
    "@dataclass\n",
    "class SUB:\n",
    "    pass\n",
    "\n",
    "@dataclass\n",
    "class PUSH:\n",
    "    n: int\n",
    "        \n",
    "@dataclass\n",
    "class MLOAD:\n",
    "    pass\n",
    "\n",
    "@dataclass\n",
    "class ASSERT:\n",
    "    n: int\n",
    "\n",
    "class SymReadonlyMemSymIndex:\n",
    "    def __init__(self, code):\n",
    "        self.pc = 0\n",
    "        self.code = code\n",
    "        self.stack = []\n",
    "        # XXX\n",
    "        self.memory = Function('memory', IntSort(), IntSort())\n",
    "        self.constraints = Solver()\n",
    "        \n",
    "    def step(self):\n",
    "        instruction = self.code[self.pc]\n",
    "        self.pc += 1\n",
    "        match instruction:\n",
    "            case ADD():\n",
    "                self.stack.append(self.stack.pop() + self.stack.pop())\n",
    "            case SUB():\n",
    "                self.stack.append(self.stack.pop() - self.stack.pop())\n",
    "            case PUSH(n):\n",
    "                self.stack.append(n)\n",
    "            case MLOAD():\n",
    "                # XXX\n",
    "                self.stack.append(self.memory(self.stack.pop()))\n",
    "            case ASSERT(n):\n",
    "                self.constraints.add(self.stack[-1] == n)                \n",
    "            case _:\n",
    "                assert False\n",
    "                \n",
    "    def run(self):\n",
    "        while self.pc < len(self.code):\n",
    "            self.step()\n",
    "\n",
    "        rv = self.stack[-1]\n",
    "        if self.constraints.check() == sat:\n",
    "            model = self.constraints.model()\n",
    "            eval_rv = rv if isinstance(rv, int) else model.eval(rv)            \n",
    "            return rv, eval_rv, model\n",
    "        else:\n",
    "            return rv, None, None"
   ]
  },
  {
   "cell_type": "markdown",
   "id": "a5a56afc",
   "metadata": {},
   "source": [
    "How to read output from the constraint solver for an uninterpreted function. For the following example, `f=[1->2, else -> 0]` can be read as `f(1)` returns `2` and for all other values in the input set, `f` returns 0. Note that this implicitly covers the first added constraint `f(0) == 0`. If you don't explicitly see a constraint you added in the output, check if the \"else\" covers it."
   ]
  },
  {
   "cell_type": "code",
   "execution_count": 16,
   "id": "b6b76219",
   "metadata": {},
   "outputs": [
    {
     "data": {
      "text/html": [
       "[f = [1 &rarr; 2, else &rarr; 0]]"
      ],
      "text/plain": [
       "[f = [1 -> 2, else -> 0]]"
      ]
     },
     "execution_count": 16,
     "metadata": {},
     "output_type": "execute_result"
    }
   ],
   "source": [
    "f = Function('f', IntSort(), IntSort())\n",
    "s = Solver()\n",
    "s.add(f(0) == 0)\n",
    "s.add(f(1) == 2)\n",
    "s.check()\n",
    "s.model()"
   ]
  },
  {
   "cell_type": "markdown",
   "id": "b67bfcc0",
   "metadata": {},
   "source": [
    "We can execute the same example as before where we read the first operand from memory index 4, but this time we don't have to explicitly set that index in memory to being a symbolic value.\n",
    "\n",
    "Note that the model says `memory = [else -> 3]`. Assume that memory is of size 5, this means memory would look like `[3, 3, 3, 3, 3]`. In the concrete machine, we set memory to  `[0, 0, 0, 0, 3]`. Both are valid initial machine states for the code we executed. The only thing that matters is that `memory[4] == 3`. The constraint solver is not guaranteed to give you back a particular valid machine state, just _a_ valid machine state. (TODO is \"machine state\" the best word to use in this context)"
   ]
  },
  {
   "cell_type": "code",
   "execution_count": 17,
   "id": "c3a8ac3c",
   "metadata": {},
   "outputs": [
    {
     "data": {
      "text/plain": [
       "(memory(4) + 2 - 1, 4, [memory = [else -> 3]])"
      ]
     },
     "execution_count": 17,
     "metadata": {},
     "output_type": "execute_result"
    }
   ],
   "source": [
    "m = SymReadonlyMemSymIndex([\n",
    "    PUSH(1), \n",
    "    PUSH(2), \n",
    "    PUSH(4), MLOAD(), \n",
    "    ADD(), \n",
    "    SUB(), \n",
    "    ASSERT(4)\n",
    "])\n",
    "m.run()"
   ]
  },
  {
   "cell_type": "markdown",
   "id": "01d0c82c",
   "metadata": {},
   "source": [
    "Let's now read from a symbolic memory index. The model resolves to the same initial memory state but says we read from index 0. Again, this is a _different_ initial machine state, but it is a _valid_ initial machine state. We just have to read the value 3 from a memory index."
   ]
  },
  {
   "cell_type": "code",
   "execution_count": 18,
   "id": "62e2fc99",
   "metadata": {},
   "outputs": [
    {
     "data": {
      "text/plain": [
       "(memory(idx) + 2 - 1, 4, [idx = 0, memory = [else -> 3]])"
      ]
     },
     "execution_count": 18,
     "metadata": {},
     "output_type": "execute_result"
    }
   ],
   "source": [
    "m = SymReadonlyMemSymIndex([\n",
    "    PUSH(1),\n",
    "    PUSH(2),\n",
    "    # XXX\n",
    "    PUSH(Int('idx')), MLOAD(),\n",
    "    ADD(),\n",
    "    SUB(),\n",
    "    ASSERT(4)\n",
    "])\n",
    "m.run()"
   ]
  },
  {
   "cell_type": "markdown",
   "id": "5aa0da32",
   "metadata": {},
   "source": [
    "### Read/Write memory\n",
    "\n",
    "Our next example takes the read only memory and adds writing. We will add an `MSTORE` instruction to write to memory.\n",
    "\n",
    "Modifying the concrete machine to write to memory is straight forward."
   ]
  },
  {
   "cell_type": "code",
   "execution_count": 19,
   "id": "d9c71e8d",
   "metadata": {},
   "outputs": [],
   "source": [
    "from dataclasses import dataclass\n",
    "\n",
    "@dataclass\n",
    "class ADD:\n",
    "    pass\n",
    "\n",
    "@dataclass\n",
    "class SUB:\n",
    "    pass\n",
    "\n",
    "@dataclass\n",
    "class PUSH:\n",
    "    n: int\n",
    "        \n",
    "@dataclass\n",
    "class MLOAD:\n",
    "    pass\n",
    "\n",
    "@dataclass\n",
    "class MSTORE:\n",
    "    pass\n",
    "\n",
    "class RWMem:\n",
    "    def __init__(self, code, memory):\n",
    "        self.pc = 0\n",
    "        self.code = code\n",
    "        self.stack = []\n",
    "        self.memory = memory\n",
    "        \n",
    "    def step(self):\n",
    "        instruction = self.code[self.pc]\n",
    "        self.pc += 1\n",
    "        match instruction:\n",
    "            case ADD():\n",
    "                self.stack.append(self.stack.pop() + self.stack.pop())\n",
    "            case SUB():\n",
    "                self.stack.append(self.stack.pop() - self.stack.pop())\n",
    "            case PUSH(n):\n",
    "                self.stack.append(n)\n",
    "            case MLOAD():\n",
    "                self.stack.append(self.memory[self.stack.pop()])\n",
    "            case MSTORE():\n",
    "                # XXX\n",
    "                idx = self.stack.pop()\n",
    "                val = self.stack.pop()\n",
    "                self.memory[idx] = val\n",
    "            case _:\n",
    "                assert False\n",
    "                \n",
    "    def run(self):\n",
    "        while self.pc < len(self.code):\n",
    "            self.step()\n",
    "        return self.stack[-1]"
   ]
  },
  {
   "cell_type": "markdown",
   "id": "f9777b9a",
   "metadata": {},
   "source": [
    "We can now write the first operand to memory and then read it back to the stack before operating on it."
   ]
  },
  {
   "cell_type": "code",
   "execution_count": 20,
   "id": "ff23b10c",
   "metadata": {},
   "outputs": [
    {
     "data": {
      "text/plain": [
       "4"
      ]
     },
     "execution_count": 20,
     "metadata": {},
     "output_type": "execute_result"
    }
   ],
   "source": [
    "mem = [0 for x in range(5)]\n",
    "\n",
    "m = RWMem([\n",
    "    PUSH(1),\n",
    "    PUSH(2),\n",
    "    # XXX Write operand to memory\n",
    "    PUSH(3), PUSH(0), MSTORE(),\n",
    "    # XXX Read operand from memory\n",
    "    PUSH(0), MLOAD(),\n",
    "    ADD(), \n",
    "    SUB(), \n",
    "], mem)\n",
    "\n",
    "m.run()"
   ]
  },
  {
   "cell_type": "markdown",
   "id": "160c464f",
   "metadata": {},
   "source": [
    "To make memory writable, we need to use a different SMT solver primitive -- [arrays](https://theory.stanford.edu/~nikolaj/programmingz3.html#sec-arrays). Just like uninterpreted functions, arrays can be used to model mathematical functions, but arrays allow the function to be \"updatable\". The \"update\" does not modify the original function. It creates a new and updated function that has one input output pair changed. In our machine, on every write instruction, we replace the memory array with the new updated memory array. (TODO -- \"I think update sounds like an in place change. I prefer to talk about it like an infinite map with the pure function store that takes an array and returns the modified array\")"
   ]
  },
  {
   "cell_type": "code",
   "execution_count": 21,
   "id": "96ea09d9",
   "metadata": {},
   "outputs": [],
   "source": [
    "from dataclasses import dataclass\n",
    "from z3 import *\n",
    "\n",
    "@dataclass\n",
    "class ADD:\n",
    "    pass\n",
    "\n",
    "@dataclass\n",
    "class SUB:\n",
    "    pass\n",
    "\n",
    "@dataclass\n",
    "class PUSH:\n",
    "    n: int\n",
    "        \n",
    "@dataclass\n",
    "class MLOAD:\n",
    "    pass\n",
    "\n",
    "@dataclass\n",
    "class MSTORE:\n",
    "    pass\n",
    "\n",
    "@dataclass\n",
    "class ASSERT:\n",
    "    n: int\n",
    "\n",
    "class SymRWMem:\n",
    "    def __init__(self, code):\n",
    "        self.pc = 0\n",
    "        self.code = code\n",
    "        self.stack = []\n",
    "        # XXX\n",
    "        self.memory = Array('memory', IntSort(), IntSort())\n",
    "        self.constraints = Solver()\n",
    "        \n",
    "    def step(self):\n",
    "        instruction = self.code[self.pc]\n",
    "        self.pc += 1\n",
    "        match instruction:\n",
    "            case ADD():\n",
    "                self.stack.append(self.stack.pop() + self.stack.pop())\n",
    "            case SUB():\n",
    "                self.stack.append(self.stack.pop() - self.stack.pop())\n",
    "            case PUSH(n):\n",
    "                self.stack.append(n)\n",
    "            case MLOAD():\n",
    "                # XXX\n",
    "                self.stack.append(self.memory[self.stack.pop()])\n",
    "            case MSTORE():\n",
    "                # XXX\n",
    "                idx = self.stack.pop()\n",
    "                val = self.stack.pop()\n",
    "                self.memory = Store(self.memory, idx, val)\n",
    "            case ASSERT(n):\n",
    "                self.constraints.add(self.stack[-1] == n)                \n",
    "            case _:\n",
    "                assert False\n",
    "                \n",
    "    def run(self):\n",
    "        while self.pc < len(self.code):\n",
    "            self.step()\n",
    "\n",
    "        rv = self.stack[-1]\n",
    "        if self.constraints.check() == sat:\n",
    "            model = self.constraints.model()\n",
    "            eval_rv = rv if isinstance(rv, int) else model.eval(rv)            \n",
    "            return rv, eval_rv, model\n",
    "        else:\n",
    "            return rv, None, None"
   ]
  },
  {
   "cell_type": "markdown",
   "id": "17e369fc",
   "metadata": {},
   "source": [
    "We can now write a symbolic value to a concrete index for the first operand."
   ]
  },
  {
   "cell_type": "code",
   "execution_count": 22,
   "id": "64d5177a",
   "metadata": {},
   "outputs": [
    {
     "data": {
      "text/plain": [
       "(Store(memory, 0, x)[0] + 2 - 1, 4, [x = 3])"
      ]
     },
     "execution_count": 22,
     "metadata": {},
     "output_type": "execute_result"
    }
   ],
   "source": [
    "m = SymRWMem([\n",
    "    PUSH(1),\n",
    "    PUSH(2),\n",
    "    PUSH(Int('x')), PUSH(0), MSTORE(),\n",
    "    PUSH(0), MLOAD(),\n",
    "    ADD(), \n",
    "    SUB(), \n",
    "    ASSERT(4)\n",
    "])\n",
    "m.run()"
   ]
  },
  {
   "cell_type": "markdown",
   "id": "0de26c80",
   "metadata": {},
   "source": [
    "We can even write a symbolic value to a symbolic index for the first operand. Note that the model solves for the symbolic value but does not have a value for the index. The model does not need to determine a concrete value for the index because for the model to be satisfiable, the operand just has to written to and read from the same index. The more formal term for the model \"not having a value\" is \"does not have an interpretation\"."
   ]
  },
  {
   "cell_type": "code",
   "execution_count": 23,
   "id": "2cfda2ea",
   "metadata": {},
   "outputs": [
    {
     "data": {
      "text/plain": [
       "(Store(memory, idx, val)[idx] + 2 - 1, 4, [val = 3])"
      ]
     },
     "execution_count": 23,
     "metadata": {},
     "output_type": "execute_result"
    }
   ],
   "source": [
    "idx = Int('idx')\n",
    "\n",
    "m = SymRWMem([\n",
    "    PUSH(1),\n",
    "    PUSH(2),\n",
    "    PUSH(Int('val')), PUSH(idx), MSTORE(),\n",
    "    PUSH(idx), MLOAD(),\n",
    "    ADD(), \n",
    "    SUB(),\n",
    "    ASSERT(4)\n",
    "])\n",
    "\n",
    "m.run()"
   ]
  },
  {
   "cell_type": "markdown",
   "id": "1ebcd9a2",
   "metadata": {},
   "source": [
    "If we need a concrete value for the index, we can ask the model gives us a \"default interpretation\" for the expression by setting the `model_completion` flag to true."
   ]
  },
  {
   "cell_type": "code",
   "execution_count": 24,
   "id": "ee354a1b",
   "metadata": {},
   "outputs": [
    {
     "data": {
      "text/html": [
       "0"
      ],
      "text/plain": [
       "0"
      ]
     },
     "execution_count": 24,
     "metadata": {},
     "output_type": "execute_result"
    }
   ],
   "source": [
    "idx = Int('idx')\n",
    "\n",
    "m = SymRWMem([\n",
    "    PUSH(1),\n",
    "    PUSH(2),\n",
    "    PUSH(Int('val')), PUSH(idx), MSTORE(),\n",
    "    PUSH(idx), MLOAD(),\n",
    "    ADD(), \n",
    "    SUB(),\n",
    "    ASSERT(4)\n",
    "])\n",
    "\n",
    "(_, _, model) = m.run()\n",
    "\n",
    "model.eval(idx, model_completion=True)"
   ]
  },
  {
   "cell_type": "markdown",
   "id": "b8a48319",
   "metadata": {},
   "source": [
    "### Conditionals\n",
    "\n",
    "Our next machine adds conditionals through the `ISZERO` instruction. `ISZERO`'s concrete implementation is straight forward."
   ]
  },
  {
   "cell_type": "code",
   "execution_count": 25,
   "id": "46623e18",
   "metadata": {},
   "outputs": [],
   "source": [
    "from dataclasses import dataclass\n",
    "\n",
    "@dataclass\n",
    "class ADD:\n",
    "    pass\n",
    "\n",
    "@dataclass\n",
    "class SUB:\n",
    "    pass\n",
    "\n",
    "@dataclass\n",
    "class PUSH:\n",
    "    n: int\n",
    "        \n",
    "@dataclass\n",
    "class MLOAD:\n",
    "    pass\n",
    "\n",
    "@dataclass\n",
    "class MSTORE:\n",
    "    pass\n",
    "\n",
    "@dataclass\n",
    "class ISZERO:\n",
    "    pass\n",
    "\n",
    "class Cond:\n",
    "    def __init__(self, code, memory=[]):\n",
    "        self.pc = 0\n",
    "        self.code = code\n",
    "        self.stack = []\n",
    "        self.memory = memory\n",
    "        \n",
    "    def step(self):\n",
    "        instruction = self.code[self.pc]\n",
    "        self.pc += 1\n",
    "        match instruction:\n",
    "            case ADD():\n",
    "                self.stack.append(self.stack.pop() + self.stack.pop())\n",
    "            case SUB():\n",
    "                self.stack.append(self.stack.pop() - self.stack.pop())\n",
    "            case PUSH(n):\n",
    "                self.stack.append(n)\n",
    "            case MLOAD():\n",
    "                self.stack.append(self.memory[self.stack.pop()])\n",
    "            case MSTORE():\n",
    "                idx = self.stack.pop()\n",
    "                val = self.stack.pop()\n",
    "                self.memory[idx] = val\n",
    "            case ISZERO():\n",
    "                # XXX\n",
    "                val = self.stack.pop()\n",
    "                self.stack.append(1 if val == 0 else 0)\n",
    "            case _:\n",
    "                assert False\n",
    "                \n",
    "    def run(self):\n",
    "        while self.pc < len(self.code):\n",
    "            self.step()\n",
    "        return self.stack[-1]"
   ]
  },
  {
   "cell_type": "markdown",
   "id": "a0ed30e9",
   "metadata": {},
   "source": [
    "Let's modify our original example to check the expected answer in the machine."
   ]
  },
  {
   "cell_type": "code",
   "execution_count": 26,
   "id": "ed06ff76",
   "metadata": {},
   "outputs": [
    {
     "data": {
      "text/plain": [
       "1"
      ]
     },
     "execution_count": 26,
     "metadata": {},
     "output_type": "execute_result"
    }
   ],
   "source": [
    "# ((3 + 2) - 1)) - 4 == 0\n",
    "m = Cond([\n",
    "    PUSH(1), \n",
    "    PUSH(2), \n",
    "    PUSH(3), \n",
    "    ADD(), \n",
    "    SUB(),\n",
    "    # XXX We expect our solution to be 4, try to zero out the solution\n",
    "    PUSH(4),\n",
    "    SUB(),\n",
    "    ISZERO()\n",
    "])\n",
    "m.run()"
   ]
  },
  {
   "cell_type": "markdown",
   "id": "be062fdb",
   "metadata": {},
   "source": [
    "There is an \"if-then-else\" SMT solver primitive. In Z3, this is the `If` function. Note, the Z3 `If` function represents the smtlib `ite` function (we'll get to smtlib later). The `If` function can be used to build a compound symbolic value. The compound symbolic value can be thought of as implicitly carrying a constraint."
   ]
  },
  {
   "cell_type": "code",
   "execution_count": 27,
   "id": "10044e5c",
   "metadata": {},
   "outputs": [],
   "source": [
    "from dataclasses import dataclass\n",
    "from z3 import *\n",
    "\n",
    "@dataclass\n",
    "class ADD:\n",
    "    pass\n",
    "\n",
    "@dataclass\n",
    "class SUB:\n",
    "    pass\n",
    "\n",
    "@dataclass\n",
    "class PUSH:\n",
    "    n: int\n",
    "        \n",
    "@dataclass\n",
    "class MLOAD:\n",
    "    pass\n",
    "\n",
    "@dataclass\n",
    "class MSTORE:\n",
    "    pass\n",
    "\n",
    "@dataclass\n",
    "class ISZERO:\n",
    "    pass\n",
    "\n",
    "@dataclass\n",
    "class ASSERT:\n",
    "    n: int\n",
    "\n",
    "class SymCond:\n",
    "    def __init__(self, code):\n",
    "        self.pc = 0\n",
    "        self.code = code\n",
    "        self.stack = []\n",
    "        self.memory = Array('memory', IntSort(), IntSort())\n",
    "        self.constraints = Solver()\n",
    "        \n",
    "    def step(self):\n",
    "        instruction = self.code[self.pc]\n",
    "        self.pc += 1\n",
    "        match instruction:\n",
    "            case ADD():\n",
    "                self.stack.append(self.stack.pop() + self.stack.pop())\n",
    "            case SUB():\n",
    "                self.stack.append(self.stack.pop() - self.stack.pop())\n",
    "            case PUSH(n):\n",
    "                self.stack.append(n)\n",
    "            case MLOAD():\n",
    "                self.stack.append(self.memory[self.stack.pop()])\n",
    "            case MSTORE():\n",
    "                idx = self.stack.pop()\n",
    "                val = self.stack.pop()\n",
    "                self.memory = Store(self.memory, idx, val)\n",
    "            case ISZERO():\n",
    "                # XXX\n",
    "                val = self.stack.pop()\n",
    "                self.stack.append(If(val == 0, 1, 0))\n",
    "            case ASSERT(n):\n",
    "                self.constraints.add(self.stack[-1] == n)                \n",
    "            case _:\n",
    "                assert False\n",
    "                \n",
    "    def run(self):\n",
    "        while self.pc < len(self.code):\n",
    "            self.step()\n",
    "\n",
    "        rv = self.stack[-1]\n",
    "        if self.constraints.check() == sat:\n",
    "            model = self.constraints.model()\n",
    "            eval_rv = rv if isinstance(rv, int) else model.eval(rv)            \n",
    "            return rv, eval_rv, model\n",
    "        else:\n",
    "            return rv, None, None"
   ]
  },
  {
   "cell_type": "markdown",
   "id": "bd91a675",
   "metadata": {},
   "source": [
    "We can now substitute a symbolic value into the operand and later assert the result of the `ISZERO` check. This later assertion can be thought of as setting that the implicit constraint in the `If` expression does hold."
   ]
  },
  {
   "cell_type": "code",
   "execution_count": 28,
   "id": "2a0b3fd3",
   "metadata": {},
   "outputs": [
    {
     "data": {
      "text/plain": [
       "(If(4 - (x + 2 - 1) == 0, 1, 0), 1, [x = 3])"
      ]
     },
     "execution_count": 28,
     "metadata": {},
     "output_type": "execute_result"
    }
   ],
   "source": [
    "m = SymCond([\n",
    "    PUSH(1), \n",
    "    PUSH(2), \n",
    "    PUSH(Int('x')), \n",
    "    ADD(), \n",
    "    SUB(),\n",
    "    PUSH(4),\n",
    "    SUB(),\n",
    "    ISZERO(),\n",
    "    # XXX\n",
    "    ASSERT(1)\n",
    "])\n",
    "m.run()"
   ]
  },
  {
   "cell_type": "markdown",
   "id": "1a3c2850",
   "metadata": {},
   "source": [
    "We can instead assert that the constraint does not hold. Remember there are many valid concrete values `x` could resolve to in this case, but the constraint solver will just pick one for us."
   ]
  },
  {
   "cell_type": "code",
   "execution_count": 29,
   "id": "8bba8ead",
   "metadata": {},
   "outputs": [
    {
     "data": {
      "text/plain": [
       "(If(4 - (x + 2 - 1) == 0, 1, 0), 0, [x = 4])"
      ]
     },
     "execution_count": 29,
     "metadata": {},
     "output_type": "execute_result"
    }
   ],
   "source": [
    "m = SymCond([\n",
    "    PUSH(1), \n",
    "    PUSH(2), \n",
    "    PUSH(Int('x')), \n",
    "    ADD(), \n",
    "    SUB(),\n",
    "    PUSH(4),\n",
    "    SUB(),\n",
    "    ISZERO(),\n",
    "    # XXX\n",
    "    ASSERT(0)\n",
    "])\n",
    "m.run()"
   ]
  },
  {
   "cell_type": "markdown",
   "id": "99394003",
   "metadata": {},
   "source": [
    "### Conditional Jumps\n",
    "\n",
    "Our next example adds conditional jumps via the `JUMPI` instruction. Note `JUMPI` takes an absolute position to set the program counter to.\n",
    "\n",
    "We'll also add a `STOP` opcode that halts execution to make the example easier to write"
   ]
  },
  {
   "cell_type": "code",
   "execution_count": 30,
   "id": "1dba5158",
   "metadata": {},
   "outputs": [],
   "source": [
    "from dataclasses import dataclass\n",
    "\n",
    "@dataclass\n",
    "class ADD:\n",
    "    pass\n",
    "\n",
    "@dataclass\n",
    "class SUB:\n",
    "    pass\n",
    "\n",
    "@dataclass\n",
    "class PUSH:\n",
    "    n: int\n",
    "        \n",
    "@dataclass\n",
    "class MLOAD:\n",
    "    pass\n",
    "\n",
    "@dataclass\n",
    "class MSTORE:\n",
    "    pass\n",
    "\n",
    "@dataclass\n",
    "class ISZERO:\n",
    "    pass\n",
    "\n",
    "@dataclass\n",
    "class JUMPI:\n",
    "    pass\n",
    "\n",
    "@dataclass\n",
    "class STOP:\n",
    "    pass\n",
    "\n",
    "class CondJump:\n",
    "    def __init__(self, code, memory=[]):\n",
    "        self.pc = 0\n",
    "        self.code = code\n",
    "        self.stack = []\n",
    "        self.memory = memory\n",
    "        \n",
    "    def step(self):\n",
    "        instruction = self.code[self.pc]\n",
    "        \n",
    "        # XXX\n",
    "        if instruction == JUMPI():\n",
    "            dest = self.stack.pop()\n",
    "            cond = self.stack.pop()\n",
    "            self.pc = self.pc + 1 if cond == 0 else dest\n",
    "            return\n",
    "        \n",
    "        self.pc += 1\n",
    "        match instruction:\n",
    "            case ADD():\n",
    "                self.stack.append(self.stack.pop() + self.stack.pop())\n",
    "            case SUB():\n",
    "                self.stack.append(self.stack.pop() - self.stack.pop())\n",
    "            case PUSH(n):\n",
    "                self.stack.append(n)\n",
    "            case MLOAD():\n",
    "                self.stack.append(self.memory[self.stack.pop()])\n",
    "            case MSTORE():\n",
    "                idx = self.stack.pop()\n",
    "                val = self.stack.pop()\n",
    "                self.memory[idx] = val\n",
    "            case ISZERO():\n",
    "                val = self.stack.pop()\n",
    "                self.stack.append(1 if val == 0 else 0)\n",
    "            case STOP():\n",
    "                # XXX\n",
    "                self.pc = len(self.code)\n",
    "            case _:\n",
    "                assert False\n",
    "                \n",
    "    def run(self):\n",
    "        while self.pc < len(self.code):\n",
    "            self.step()\n",
    "        return self.stack[-1]"
   ]
  },
  {
   "cell_type": "markdown",
   "id": "87fd1d22",
   "metadata": {},
   "source": [
    "We can now modify our previous example to take a jump if the `ISZERO` check returns true."
   ]
  },
  {
   "cell_type": "code",
   "execution_count": 31,
   "id": "ca6ac317",
   "metadata": {},
   "outputs": [
    {
     "data": {
      "text/plain": [
       "200"
      ]
     },
     "execution_count": 31,
     "metadata": {},
     "output_type": "execute_result"
    }
   ],
   "source": [
    "m = CondJump([\n",
    "    PUSH(1), \n",
    "    PUSH(2), \n",
    "    PUSH(3), \n",
    "    ADD(), \n",
    "    SUB(),\n",
    "    PUSH(4),\n",
    "    SUB(),\n",
    "    ISZERO(),\n",
    "    # XXX \n",
    "    PUSH(12),\n",
    "    JUMPI(),\n",
    "    # The condition did not hold\n",
    "    PUSH(100),\n",
    "    STOP(),\n",
    "    # pc = 12\n",
    "    # The condition did hold\n",
    "    PUSH(200)\n",
    "])\n",
    "m.run()"
   ]
  },
  {
   "cell_type": "markdown",
   "id": "b7dbe398",
   "metadata": {},
   "source": [
    "Symbolic machine conditional jumps require a larger deviation from the concrete machine. When the conditional argument to the jump is symbolic, our machine must take both paths. This means that our machine must now keep track of multiple machine states and choose which machine state to execute. We do not allow symbolic arguments to the jump destination. If we did allow symbolic arguments to the jump destination, we would have to split the machine state into `len(self.code)` copies at every symbolic jump. This is a common pattern in symbolic execution where we sometimes choose to just not make the full implementation symbolic for performance reasons."
   ]
  },
  {
   "cell_type": "code",
   "execution_count": 32,
   "id": "b16708cf",
   "metadata": {},
   "outputs": [],
   "source": [
    "from dataclasses import dataclass\n",
    "from z3 import *\n",
    "import copy \n",
    "\n",
    "@dataclass\n",
    "class ADD:\n",
    "    pass\n",
    "\n",
    "@dataclass\n",
    "class SUB:\n",
    "    pass\n",
    "\n",
    "@dataclass\n",
    "class PUSH:\n",
    "    n: int\n",
    "        \n",
    "@dataclass\n",
    "class MLOAD:\n",
    "    pass\n",
    "\n",
    "@dataclass\n",
    "class MSTORE:\n",
    "    pass\n",
    "\n",
    "@dataclass\n",
    "class ISZERO:\n",
    "    pass\n",
    "\n",
    "@dataclass\n",
    "class JUMPI:\n",
    "    pass\n",
    "\n",
    "@dataclass\n",
    "class STOP:\n",
    "    pass\n",
    "\n",
    "@dataclass\n",
    "class ASSERT:\n",
    "    n: int\n",
    "        \n",
    "# TODO add type definitions\n",
    "@dataclass\n",
    "class MachineState:\n",
    "    pc: int\n",
    "    stack: any\n",
    "    memory: any\n",
    "    constraints: any\n",
    "        \n",
    "    def __copy__(self):\n",
    "        return MachineState(\n",
    "            pc=self.pc,\n",
    "            stack=self.stack.copy(),\n",
    "            # Memory is represented as an SMT Array which is immutable\n",
    "            # and does not need to be copied\n",
    "            memory=self.memory,\n",
    "            constraints=copy.copy(self.constraints)\n",
    "        )\n",
    "        \n",
    "class SymCondJump:\n",
    "    def __init__(self, code):\n",
    "        # XXX all machine states can share the same code because\n",
    "        # code is read only\n",
    "        self.code = code\n",
    "        \n",
    "        # XXX we now store multiple machine states\n",
    "        self.machines = [\n",
    "            MachineState(\n",
    "                pc=0, \n",
    "                stack=[], \n",
    "                memory=Array('memory', IntSort(), IntSort()), \n",
    "                constraints=Solver()\n",
    "            )\n",
    "        ]\n",
    "        \n",
    "    def step(self, machine):\n",
    "        instruction = self.code[machine.pc]\n",
    "        \n",
    "        # XXX JUMPI now creates two different machine states        \n",
    "        if instruction == JUMPI():\n",
    "            dest = machine.stack.pop()\n",
    "            assert isinstance(dest, int), 'JUMPI: requires concrete destination'\n",
    "            cond = machine.stack.pop()\n",
    "            \n",
    "            other_machine = copy.copy(machine)\n",
    "            \n",
    "            # other machine does take the jump\n",
    "            other_machine.pc = dest\n",
    "            other_machine.constraints.append(cond != 0)\n",
    "            \n",
    "            # machine does not take the jump\n",
    "            machine.pc = machine.pc + 1\n",
    "            machine.constraints.append(cond == 0)\n",
    "            \n",
    "            self.machines.append(other_machine)\n",
    "\n",
    "            return        \n",
    "        \n",
    "        machine.pc += 1\n",
    "        \n",
    "        match instruction:\n",
    "            case ADD():\n",
    "                machine.stack.append(machine.stack.pop() + machine.stack.pop())\n",
    "            case SUB():\n",
    "                machine.stack.append(machine.stack.pop() - machine.stack.pop())\n",
    "            case PUSH(n):\n",
    "                machine.stack.append(n)\n",
    "            case MLOAD():\n",
    "                machine.stack.append(machine.memory[machine.stack.pop()])\n",
    "            case MSTORE():\n",
    "                idx = machine.stack.pop()\n",
    "                val = machine.stack.pop()\n",
    "                machine.memory = Store(machine.memory, idx, val)\n",
    "            case ISZERO():\n",
    "                val = machine.stack.pop()\n",
    "                machine.stack.append(If(val == 0, 1, 0))\n",
    "            case STOP():\n",
    "                machine.pc = len(self.code)                  \n",
    "            case ASSERT(n):\n",
    "                machine.constraints.add(machine.stack[-1] == n)              \n",
    "            case _:\n",
    "                assert False        \n",
    "    \n",
    "    def choose_machine(self):\n",
    "        machine = None\n",
    "        \n",
    "        for m in self.machines:\n",
    "            if m.pc < len(self.code):\n",
    "                machine = m\n",
    "                break\n",
    "                \n",
    "        return machine        \n",
    "    \n",
    "    def run(self):\n",
    "        # XXX We must choose a machine state to pass to step\n",
    "        machine = self.choose_machine()\n",
    "        \n",
    "        while machine:\n",
    "            self.step(machine)\n",
    "            machine = self.choose_machine()            \n",
    "        \n",
    "        rvs = []\n",
    "        \n",
    "        for m in self.machines:\n",
    "            rv = m.stack[-1]\n",
    "            if m.constraints.check() == sat:\n",
    "                model = m.constraints.model()\n",
    "                eval_rv = rv if isinstance(rv, int) else model.eval(rv)            \n",
    "                rvs.append((rv, eval_rv, model))\n",
    "            else:\n",
    "                rvs.append((rv, None, None))\n",
    "            \n",
    "        return rvs     "
   ]
  },
  {
   "cell_type": "markdown",
   "id": "891b2dbc",
   "metadata": {},
   "source": [
    "When we run the same example from the concrete case, we see that we do indeed get two machine states output, one where the jump is not taken (final value 100) and one where the jump is taken (final value 200). However, the output from the not taking the jump case indicates that while the final concrete value on the stack was 100, the constraint set was not satisfiable. This means that it is not actually possible to reach this machine state. We can actually check if the model can be satisfied when splitting the machine states and not follow unsatisfiable machine states."
   ]
  },
  {
   "cell_type": "code",
   "execution_count": 33,
   "id": "ed234f0a",
   "metadata": {},
   "outputs": [
    {
     "data": {
      "text/plain": [
       "[(100, None, None), (200, 200, [])]"
      ]
     },
     "execution_count": 33,
     "metadata": {},
     "output_type": "execute_result"
    }
   ],
   "source": [
    "m = SymCondJump([\n",
    "    PUSH(1), \n",
    "    PUSH(2), \n",
    "    PUSH(3), \n",
    "    ADD(), \n",
    "    SUB(),\n",
    "    PUSH(4),\n",
    "    SUB(),\n",
    "    ISZERO(),\n",
    "    PUSH(12),\n",
    "    JUMPI(),\n",
    "    PUSH(100),\n",
    "    STOP(),\n",
    "    PUSH(200)\n",
    "])\n",
    "m.run()"
   ]
  },
  {
   "cell_type": "code",
   "execution_count": 34,
   "id": "3732c737",
   "metadata": {},
   "outputs": [],
   "source": [
    "from dataclasses import dataclass\n",
    "from z3 import *\n",
    "import copy \n",
    "\n",
    "@dataclass\n",
    "class ADD:\n",
    "    pass\n",
    "\n",
    "@dataclass\n",
    "class SUB:\n",
    "    pass\n",
    "\n",
    "@dataclass\n",
    "class PUSH:\n",
    "    n: int\n",
    "        \n",
    "@dataclass\n",
    "class MLOAD:\n",
    "    pass\n",
    "\n",
    "@dataclass\n",
    "class MSTORE:\n",
    "    pass\n",
    "\n",
    "@dataclass\n",
    "class ISZERO:\n",
    "    pass\n",
    "\n",
    "@dataclass\n",
    "class JUMPI:\n",
    "    pass\n",
    "\n",
    "@dataclass\n",
    "class STOP:\n",
    "    pass\n",
    "\n",
    "@dataclass\n",
    "class ASSERT:\n",
    "    n: int\n",
    "        \n",
    "# TODO add type definitions\n",
    "@dataclass\n",
    "class MachineState:\n",
    "    pc: int\n",
    "    stack: any\n",
    "    memory: any\n",
    "    constraints: any\n",
    "        \n",
    "    def __copy__(self):\n",
    "        return MachineState(\n",
    "            pc=self.pc,\n",
    "            stack=self.stack.copy(),\n",
    "            # Memory is represented as an SMT Array which is immutable\n",
    "            # and does not need to be copied\n",
    "            memory=self.memory,\n",
    "            constraints=copy.copy(self.constraints)\n",
    "        )\n",
    "        \n",
    "class SymCondJump:\n",
    "    def __init__(self, code):\n",
    "        self.code = code\n",
    "        \n",
    "        self.machines = [\n",
    "            MachineState(\n",
    "                pc=0, \n",
    "                stack=[], \n",
    "                memory=Array('memory', IntSort(), IntSort()), \n",
    "                constraints=Solver()\n",
    "            )\n",
    "        ]\n",
    "        \n",
    "    def step(self, machine):\n",
    "        instruction = self.code[machine.pc]\n",
    "        \n",
    "        if instruction == JUMPI():\n",
    "            dest = machine.stack.pop()\n",
    "            assert isinstance(dest, int), 'JUMPI: requires concrete destination'\n",
    "            cond = machine.stack.pop()\n",
    "            \n",
    "            other_machine = copy.copy(machine)\n",
    "            \n",
    "            # other machine does take the jump\n",
    "            other_machine.pc = dest\n",
    "            other_machine.constraints.append(cond != 0)\n",
    "            \n",
    "            # machine does not take the jump\n",
    "            machine.pc = machine.pc + 1\n",
    "            machine.constraints.append(cond == 0)\n",
    "            \n",
    "            # XXX remove machine from the list of machines if it is not satisfiable\n",
    "            if machine.constraints.check() == unsat:\n",
    "                self.machines.remove(machine)\n",
    "            \n",
    "            # XXX only add other_machine to the list of machines if it is satisfiable\n",
    "            if other_machine.constraints.check() == sat:\n",
    "                self.machines.append(other_machine)\n",
    "\n",
    "            return        \n",
    "        \n",
    "        machine.pc += 1\n",
    "        \n",
    "        match instruction:\n",
    "            case ADD():\n",
    "                machine.stack.append(machine.stack.pop() + machine.stack.pop())\n",
    "            case SUB():\n",
    "                machine.stack.append(machine.stack.pop() - machine.stack.pop())\n",
    "            case PUSH(n):\n",
    "                machine.stack.append(n)\n",
    "            case MLOAD():\n",
    "                machine.stack.append(machine.memory[machine.stack.pop()])\n",
    "            case MSTORE():\n",
    "                idx = machine.stack.pop()\n",
    "                val = machine.stack.pop()\n",
    "                machine.memory = Store(machine.memory, idx, val)\n",
    "            case ISZERO():\n",
    "                val = machine.stack.pop()\n",
    "                machine.stack.append(If(val == 0, 1, 0))\n",
    "            case STOP():\n",
    "                machine.pc = len(self.code)                  \n",
    "            case ASSERT(n):\n",
    "                machine.constraints.add(machine.stack[-1] == n)              \n",
    "            case _:\n",
    "                assert False        \n",
    "    \n",
    "    def choose_machine(self):\n",
    "        machine = None\n",
    "        \n",
    "        for m in self.machines:\n",
    "            if m.pc < len(self.code):\n",
    "                machine = m\n",
    "                break\n",
    "                \n",
    "        return machine        \n",
    "    \n",
    "    def run(self):\n",
    "        machine = self.choose_machine()\n",
    "        \n",
    "        while machine:\n",
    "            self.step(machine)\n",
    "            machine = self.choose_machine()            \n",
    "        \n",
    "        rvs = []\n",
    "        \n",
    "        for m in self.machines:\n",
    "            rv = m.stack[-1]\n",
    "            if m.constraints.check() == sat:\n",
    "                model = m.constraints.model()\n",
    "                eval_rv = rv if isinstance(rv, int) else model.eval(rv)            \n",
    "                rvs.append((rv, eval_rv, model))\n",
    "            else:\n",
    "                rvs.append((rv, None, None))\n",
    "            \n",
    "        return rvs     "
   ]
  },
  {
   "cell_type": "markdown",
   "id": "37e526dd",
   "metadata": {},
   "source": [
    "Now the example with only concrete values returns one final machine state."
   ]
  },
  {
   "cell_type": "code",
   "execution_count": 35,
   "id": "11204dc1",
   "metadata": {},
   "outputs": [
    {
     "data": {
      "text/plain": [
       "[(200, 200, [])]"
      ]
     },
     "execution_count": 35,
     "metadata": {},
     "output_type": "execute_result"
    }
   ],
   "source": [
    "m = SymCondJump([\n",
    "    PUSH(1), \n",
    "    PUSH(2), \n",
    "    PUSH(3), \n",
    "    ADD(), \n",
    "    SUB(),\n",
    "    PUSH(4),\n",
    "    SUB(),\n",
    "    ISZERO(),\n",
    "    PUSH(12),\n",
    "    JUMPI(),\n",
    "    PUSH(100),\n",
    "    STOP(),\n",
    "    PUSH(200)\n",
    "])\n",
    "m.run()"
   ]
  },
  {
   "cell_type": "markdown",
   "id": "3693cb00",
   "metadata": {},
   "source": [
    "Now let's see what happens when our branching condition is symbolic. When we make the value that we use to check the answer symbolic, we get two possible answers that lead to the separate respective paths. "
   ]
  },
  {
   "cell_type": "code",
   "execution_count": 36,
   "id": "7193f2aa",
   "metadata": {},
   "outputs": [
    {
     "data": {
      "text/plain": [
       "[(100, 100, [ans = 5]), (200, 200, [ans = 4])]"
      ]
     },
     "execution_count": 36,
     "metadata": {},
     "output_type": "execute_result"
    }
   ],
   "source": [
    "m = SymCondJump([\n",
    "    PUSH(1), \n",
    "    PUSH(2), \n",
    "    PUSH(3), \n",
    "    ADD(), \n",
    "    SUB(),\n",
    "    PUSH(Int('ans')),\n",
    "    SUB(),\n",
    "    ISZERO(),\n",
    "    PUSH(12),\n",
    "    JUMPI(),\n",
    "    PUSH(100),\n",
    "    STOP(),\n",
    "    PUSH(200)\n",
    "])\n",
    "m.run()"
   ]
  },
  {
   "cell_type": "markdown",
   "id": "4eab32fb",
   "metadata": {},
   "source": [
    "Intead of making the answer check symbolic, we can make an operand symbolic"
   ]
  },
  {
   "cell_type": "code",
   "execution_count": 37,
   "id": "7542721f",
   "metadata": {},
   "outputs": [
    {
     "data": {
      "text/plain": [
       "[(100, 100, [x = 4]), (200, 200, [x = 3])]"
      ]
     },
     "execution_count": 37,
     "metadata": {},
     "output_type": "execute_result"
    }
   ],
   "source": [
    "m = SymCondJump([\n",
    "    PUSH(1), \n",
    "    PUSH(2), \n",
    "    PUSH(Int('x')), \n",
    "    ADD(), \n",
    "    SUB(),\n",
    "    PUSH(4),\n",
    "    SUB(),\n",
    "    ISZERO(),\n",
    "    PUSH(12),\n",
    "    JUMPI(),\n",
    "    PUSH(100),\n",
    "    STOP(),\n",
    "    PUSH(200)\n",
    "])\n",
    "m.run()"
   ]
  },
  {
   "cell_type": "markdown",
   "id": "bdd8bcd9",
   "metadata": {},
   "source": [
    "We can make both symbolic"
   ]
  },
  {
   "cell_type": "code",
   "execution_count": 38,
   "id": "4d6e66f5",
   "metadata": {},
   "outputs": [
    {
     "data": {
      "text/plain": [
       "[(100, 100, [ans = 2, x = 0]), (200, 200, [x = 0, ans = 1])]"
      ]
     },
     "execution_count": 38,
     "metadata": {},
     "output_type": "execute_result"
    }
   ],
   "source": [
    "m = SymCondJump([\n",
    "    PUSH(1), \n",
    "    PUSH(2), \n",
    "    PUSH(Int('x')), \n",
    "    ADD(), \n",
    "    SUB(),\n",
    "    PUSH(Int('ans')),\n",
    "    SUB(),\n",
    "    ISZERO(),\n",
    "    PUSH(12),\n",
    "    JUMPI(),\n",
    "    PUSH(100),\n",
    "    STOP(),\n",
    "    PUSH(200)\n",
    "])\n",
    "m.run()"
   ]
  },
  {
   "cell_type": "markdown",
   "id": "bd2bb57e",
   "metadata": {},
   "source": [
    "We can make all operands and the answer symbolic. Hopefully you can start to see how the different pieces are starting to come together."
   ]
  },
  {
   "cell_type": "code",
   "execution_count": 39,
   "id": "d3712ead",
   "metadata": {},
   "outputs": [
    {
     "data": {
      "text/plain": [
       "[(100, 100, [ans = 1, z = 0, y = 0, x = 0]),\n",
       " (200, 200, [z = 0, y = 0, x = 0, ans = 0])]"
      ]
     },
     "execution_count": 39,
     "metadata": {},
     "output_type": "execute_result"
    }
   ],
   "source": [
    "m = SymCondJump([\n",
    "    PUSH(Int('x')), \n",
    "    PUSH(Int('y')), \n",
    "    PUSH(Int('z')), \n",
    "    ADD(), \n",
    "    SUB(),\n",
    "    PUSH(Int('ans')),\n",
    "    SUB(),\n",
    "    ISZERO(),\n",
    "    PUSH(12),\n",
    "    JUMPI(),\n",
    "    PUSH(100),\n",
    "    STOP(),\n",
    "    PUSH(200)\n",
    "])\n",
    "m.run()"
   ]
  },
  {
   "cell_type": "markdown",
   "id": "263c66eb",
   "metadata": {},
   "source": [
    "### A more realistic model of memory using Bit Vectors\n",
    " \n",
    "We've been assuming we can store arbitrary precision integers on our machine's stack. Some [virtual machines](https://docs.oracle.com/javase/specs/jvms/se7/html/jvms-2.html#jvms-2.6.2) do let you store a rich set of primitive types on the stack. However, the EVM stores fixed-width bit vectors. A 256 bit (32 byte) word size \"was chosen to facilitate the Keccak256 hash scheme and elliptic-curve computations (TODO cite yellow paper -- section 9.1).\" The EVM is big endian.\n",
    "\n",
    "Using bit vectors instead of integers makes it easier to model EVM semantics as the EVM is defined in terms of operations on bit vectors. I.e. in the EVM, `ADD` is unsigned addition modulo the word size of the machine, not addition over arbitrary precision integers. We could add additional constraints to the result of the integer addition to make the result equivalent to EVM semantics, but for now we want to directly model the lower level operation.\n",
    "\n",
    "More importantly, we can't faithfully model memory addressability using integers. \n",
    "\n",
    "The EVM has 4 different memory locations: the stack, calldata, memory, and storage. Each uses 32 byte words but has different access semantics.\n",
    "\n",
    "Each stack item is a full word but we can push variable byte amounts that are then padded to a full word. The following python snippet mimics the EVM set of `PUSH<N>` instructions."
   ]
  },
  {
   "cell_type": "code",
   "execution_count": 40,
   "id": "326e6c98",
   "metadata": {},
   "outputs": [
    {
     "name": "stdout",
     "output_type": "stream",
     "text": [
      "000000000000000000000000000000000000000000000000000000a1deadbeef\n",
      "00000000000000000000000000000000000000000000000000000000deadbeef\n",
      "0000000000000000000000000000000000000000000000000000000000000001\n",
      "000000000000000000000000000000000000000000000000000000000000000a\n"
     ]
    }
   ],
   "source": [
    "stack = []\n",
    "\n",
    "def push(val):\n",
    "    padded = bytes.fromhex(val).rjust(32, b'\\x00').hex()\n",
    "    stack.append(padded)\n",
    "\n",
    "push('0a')\n",
    "push('01')\n",
    "push('deadbeef')\n",
    "push('a1deadbeef')\n",
    "\n",
    "print(stack.pop())\n",
    "print(stack.pop())\n",
    "print(stack.pop())\n",
    "print(stack.pop())"
   ]
  },
  {
   "cell_type": "markdown",
   "id": "e20ee4e0",
   "metadata": {},
   "source": [
    "Memory and calldata are byte addressable arrays and we read full words from them. This means that reads and writes at adjacent indices touch overlapping regions of memory. Calldata is not writable but memory is written to in full word increments or as a single byte. `MSTORE8` writes the low byte of the operand. The following python snippet mimics the EVM instructions that write and read from memory. Calldata can't be written to and reading from calldata is basically the same as reading from memory."
   ]
  },
  {
   "cell_type": "code",
   "execution_count": 41,
   "id": "49e58bee",
   "metadata": {},
   "outputs": [
    {
     "name": "stdout",
     "output_type": "stream",
     "text": [
      "0000000000000000000000000000000000000000000000000000000000000000\n",
      "0000000000000000000000000000000000000000000000000000000000000000\n",
      "\n",
      "001111111111111111111111111111111111111111111111111111111111111111\n",
      "0011111111111111111111111111111111111111111111111111111111111111\n",
      "1111111111111111111111111111111111111111111111111111111111111111\n",
      "\n",
      "00111111111111111111111111111111111111111111111111111111111111112222222222222222222222222222222222222222222222222222222222222222\n",
      "0011111111111111111111111111111111111111111111111111111111111111\n",
      "1111111111111111111111111111111111111111111111111111111111111122\n",
      "2222222222222222222222222222222222222222222222222222222222222222\n",
      "\n",
      "33445511111111111111111111111111111111111111111111111111111111112222222222222222222222222222222222222222222222222222222222222222\n",
      "3344551111111111111111111111111111111111111111111111111111111111\n"
     ]
    }
   ],
   "source": [
    "mem = []\n",
    "\n",
    "def grow_to(length):\n",
    "    while len(mem) < length:\n",
    "        mem.append(0x00)\n",
    "\n",
    "def mload(idx):\n",
    "    grow_to(idx + 32)\n",
    "    return bytes(mem[idx: idx + 32]).hex()\n",
    "\n",
    "def mstore(idx, val):\n",
    "    grow_to(idx + 32)\n",
    "    val = bytes.fromhex(val)    \n",
    "    for offset in range(32):\n",
    "        mem[idx + offset] = val[offset]\n",
    "\n",
    "def mstore8(idx, val):    \n",
    "    grow_to(idx + 1)\n",
    "    low_byte = bytes.fromhex(val)[31]\n",
    "    mem[idx] = low_byte\n",
    "    \n",
    "\n",
    "mstore(0, '00' * 32)\n",
    "print(bytes(mem).hex())\n",
    "print(mload(0))\n",
    "print()\n",
    "\n",
    "mstore(1, '11' * 32)\n",
    "print(bytes(mem).hex())\n",
    "print(mload(0))\n",
    "print(mload(1))\n",
    "print()\n",
    "\n",
    "mstore(32, '22' * 32)\n",
    "print(bytes(mem).hex())\n",
    "print(mload(0))\n",
    "print(mload(1))\n",
    "print(mload(32))\n",
    "print()\n",
    "\n",
    "mstore8(0, '33' * 32)\n",
    "mstore8(1, '44' * 32)\n",
    "mstore8(2, '55' * 32)\n",
    "print(bytes(mem).hex())\n",
    "print(mload(0))"
   ]
  },
  {
   "cell_type": "markdown",
   "id": "8e38a9a7",
   "metadata": {},
   "source": [
    "Storage is a key value store that maps words to words. Storage reads are _not_ byte addressable. This means that reads and writes at adjacent storage locations do not touch overlapping regions of memory. The following snippet mimics reading and writing from EVM storage."
   ]
  },
  {
   "cell_type": "code",
   "execution_count": 42,
   "id": "04db23d8",
   "metadata": {},
   "outputs": [
    {
     "name": "stdout",
     "output_type": "stream",
     "text": [
      "0000000000000000000000000000000000000000000000000000000000000000\n",
      "\n",
      "1111111111111111111111111111111111111111111111111111111111111111\n",
      "\n",
      "1111111111111111111111111111111111111111111111111111111111111111\n",
      "2222222222222222222222222222222222222222222222222222222222222222\n",
      "\n"
     ]
    }
   ],
   "source": [
    "storage = {}\n",
    "\n",
    "def sload(idx):\n",
    "    if idx not in storage:\n",
    "        return '00' * 32\n",
    "    else:\n",
    "        return storage[idx]\n",
    "\n",
    "def sstore(idx, val):\n",
    "    storage[idx] = val\n",
    "    \n",
    "print(sload('00' * 32))\n",
    "print()\n",
    "\n",
    "sstore('00' * 32, '11' * 32)\n",
    "print(sload('00' * 32))\n",
    "print()\n",
    "\n",
    "sstore(('00' * 31) + '01', '22' * 32)\n",
    "print(sload('00' * 32))\n",
    "print(sload(('00' * 31) + '01'))\n",
    "print()"
   ]
  },
  {
   "cell_type": "markdown",
   "id": "13638e91",
   "metadata": {},
   "source": [
    "For our example machine, we will be using 4 byte word size that is byte addressable."
   ]
  },
  {
   "cell_type": "markdown",
   "id": "89bfdb1a",
   "metadata": {},
   "source": [
    "### Bit vector arithmetic operations on stack values\n",
    "\n",
    "Python supports most of its bitwise operations directly on integer values so we will still store and operate on integers. For addition and subtraction where python does not support the direct bitwise operation, we can bitwise and the result with `MAX_INT` to keep the result in range. This is how [py-evm](https://github.com/ethereum/py-evm/blob/026ee20f8d9b70d7c1b6a4fb9484d5489d425e54/eth/vm/logic/arithmetic.py) implements bitwise addition and subtraction."
   ]
  },
  {
   "cell_type": "code",
   "execution_count": 43,
   "id": "13d0b61f",
   "metadata": {},
   "outputs": [],
   "source": [
    "from dataclasses import dataclass\n",
    "\n",
    "@dataclass\n",
    "class ADD:\n",
    "    pass\n",
    "\n",
    "@dataclass\n",
    "class SUB:\n",
    "    pass\n",
    "\n",
    "@dataclass\n",
    "class PUSH:\n",
    "    n: int\n",
    "        \n",
    "# XXX\n",
    "MAX_INT = 2**32 - 1\n",
    "\n",
    "class BitVecStackArith:\n",
    "    def __init__(self, code):\n",
    "        self.pc = 0\n",
    "        self.code = code\n",
    "        self.stack = []\n",
    "        \n",
    "    def step(self):\n",
    "        instruction = self.code[self.pc]\n",
    "        self.pc += 1\n",
    "        match instruction:\n",
    "            case ADD():\n",
    "                # XXX\n",
    "                self.stack.append(self.stack.pop() + self.stack.pop() & MAX_INT)\n",
    "            case SUB():\n",
    "                # XXX\n",
    "                self.stack.append(self.stack.pop() - self.stack.pop() & MAX_INT)\n",
    "            case PUSH(n):\n",
    "                self.stack.append(n)\n",
    "            case _:\n",
    "                assert False\n",
    "                \n",
    "    def run(self):\n",
    "        while self.pc < len(self.code):\n",
    "            self.step()\n",
    "        return self.stack[-1]"
   ]
  },
  {
   "cell_type": "markdown",
   "id": "ea9a076e",
   "metadata": {},
   "source": [
    "We can still compute values with the machine, but now the results are restricted to as if they are computed over fixed width integers."
   ]
  },
  {
   "cell_type": "code",
   "execution_count": 44,
   "id": "e56fbc53",
   "metadata": {},
   "outputs": [
    {
     "name": "stdout",
     "output_type": "stream",
     "text": [
      "0\n",
      "4294967295\n"
     ]
    }
   ],
   "source": [
    "print(BitVecStackArith([\n",
    "    PUSH(MAX_INT),\n",
    "    PUSH(1),\n",
    "    ADD()\n",
    "]).run())\n",
    "\n",
    "print(BitVecStackArith([\n",
    "    PUSH(1),\n",
    "    PUSH(0),\n",
    "    SUB()\n",
    "]).run())"
   ]
  },
  {
   "cell_type": "markdown",
   "id": "1186d972",
   "metadata": {},
   "source": [
    "The symbolic version of this machine will still need the bitwise and check when operating on two integers, but when at least one of the operands is symbolic, the constraint solver will ensure that the compound symbolic expression is in the right range. The only other change we have to make is when specifying bit vector width when declaring symbolic variables."
   ]
  },
  {
   "cell_type": "code",
   "execution_count": 45,
   "id": "2094e4ed",
   "metadata": {},
   "outputs": [],
   "source": [
    "from dataclasses import dataclass\n",
    "from z3 import *\n",
    "\n",
    "@dataclass\n",
    "class ADD:\n",
    "    pass\n",
    "\n",
    "@dataclass\n",
    "class SUB:\n",
    "    pass\n",
    "\n",
    "@dataclass\n",
    "class PUSH:\n",
    "    n: int\n",
    "        \n",
    "@dataclass\n",
    "class ASSERT:\n",
    "    n: int\n",
    "        \n",
    "# XXX\n",
    "MAX_INT = 2**32 - 1\n",
    "\n",
    "class SymBitVecStackArith:\n",
    "    def __init__(self, code):\n",
    "        self.pc = 0\n",
    "        self.code = code\n",
    "        self.stack = []\n",
    "        self.constraints = Solver()\n",
    "        \n",
    "    def step(self):\n",
    "        instruction = self.code[self.pc]\n",
    "        self.pc += 1\n",
    "        match instruction:\n",
    "            case ADD():\n",
    "                # XXX\n",
    "                a = self.stack.pop()\n",
    "                b = self.stack.pop()\n",
    "                if isinstance(a, int) and isinstance(b, int):\n",
    "                    self.stack.append(a + b & MAX_INT)\n",
    "                else:\n",
    "                    self.stack.append(a + b)\n",
    "            case SUB():\n",
    "                # XXX\n",
    "                a = self.stack.pop()\n",
    "                b = self.stack.pop()\n",
    "                if isinstance(a, int) and isinstance(b, int):\n",
    "                    self.stack.append(a - b & MAX_INT)\n",
    "                else:\n",
    "                    self.stack.append(a - b)\n",
    "            case PUSH(n):\n",
    "                self.stack.append(n)\n",
    "            case ASSERT(n):\n",
    "                self.constraints.add(self.stack[-1] == n)\n",
    "            case _:\n",
    "                assert False\n",
    "            \n",
    "    def run(self):\n",
    "        while self.pc < len(self.code):\n",
    "            self.step()\n",
    "            \n",
    "        rv = self.stack[-1]\n",
    "        if self.constraints.check() == sat:\n",
    "            model = self.constraints.model()\n",
    "            eval_rv = rv if isinstance(rv, int) else model.eval(rv)\n",
    "            return rv, eval_rv, model\n",
    "        else:\n",
    "            return rv, None, None"
   ]
  },
  {
   "cell_type": "markdown",
   "id": "51f4c918",
   "metadata": {},
   "source": [
    "Our original example still works."
   ]
  },
  {
   "cell_type": "code",
   "execution_count": 46,
   "id": "07195e10",
   "metadata": {},
   "outputs": [
    {
     "data": {
      "text/plain": [
       "(x + 2 - 1, 4, [x = 3])"
      ]
     },
     "execution_count": 46,
     "metadata": {},
     "output_type": "execute_result"
    }
   ],
   "source": [
    "m = SymBitVecStackArith([\n",
    "    PUSH(1),\n",
    "    PUSH(2),\n",
    "    # XXX\n",
    "    PUSH(BitVec('x', 32)),\n",
    "    ADD(),\n",
    "    SUB(),\n",
    "    ASSERT(4)\n",
    "])\n",
    "m.run()"
   ]
  },
  {
   "cell_type": "markdown",
   "id": "7f36f504",
   "metadata": {},
   "source": [
    "The new machine models overflow correctly"
   ]
  },
  {
   "cell_type": "code",
   "execution_count": 47,
   "id": "90dc3f63",
   "metadata": {},
   "outputs": [
    {
     "data": {
      "text/plain": [
       "(x + 1, 0, [x = 4294967295])"
      ]
     },
     "execution_count": 47,
     "metadata": {},
     "output_type": "execute_result"
    }
   ],
   "source": [
    "m = SymBitVecStackArith([\n",
    "    PUSH(1),\n",
    "    PUSH(BitVec('x', 32)),\n",
    "    ADD(),\n",
    "    ASSERT(0)\n",
    "])\n",
    "m.run()"
   ]
  },
  {
   "cell_type": "markdown",
   "id": "e517d020",
   "metadata": {},
   "source": [
    "### Bit vector memory concrete indexing"
   ]
  },
  {
   "cell_type": "code",
   "execution_count": 48,
   "id": "1605d5d8",
   "metadata": {},
   "outputs": [],
   "source": [
    "from z3 import *\n",
    "\n",
    "memory = []\n",
    "\n",
    "def grow_to(length):\n",
    "    while len(memory) < length:\n",
    "        memory.append(0x00)\n",
    "        \n",
    "def coerce_byte(byte):\n",
    "    if isinstance(byte, int):\n",
    "        return BitVecVal(byte, 8)\n",
    "    \n",
    "    return byte\n",
    "\n",
    "def mload(idx):\n",
    "    assert isinstance(idx, int), 'MLOAD: requires concrete index'\n",
    "    \n",
    "    grow_to(idx + 4)\n",
    "    \n",
    "    rv = coerce_byte(memory[idx])\n",
    "    for offset in range(1, 4):\n",
    "        # XXX\n",
    "        rv = Concat(rv, coerce_byte(memory[idx + offset]))\n",
    "    return rv\n",
    "\n",
    "def mstore(idx, val):\n",
    "    assert isinstance(idx, int), 'MSTORE: requires concrete index'\n",
    "    \n",
    "    grow_to(idx + 4)\n",
    "    \n",
    "    if isinstance(val, str):\n",
    "        val = bytes.fromhex(val)\n",
    "        for offset in range(4):\n",
    "            memory[idx + offset] = val[offset]\n",
    "    else:\n",
    "        for offset in range(4):\n",
    "            # XXX\n",
    "            start_idx = 8 * offset\n",
    "            memory[idx + offset] = Extract(7 + start_idx, start_idx, val)\n",
    "\n",
    "def mstore8(idx, val):    \n",
    "    assert isinstance(idx, int), 'MSTORE8: requires concrete index'\n",
    "    \n",
    "    grow_to(idx + 1)\n",
    "    \n",
    "    if isinstance(val, str):\n",
    "        low_byte = bytes.fromhex(val)[3]\n",
    "    else:\n",
    "        # XXX\n",
    "        low_byte = Extract(7, 0, val)\n",
    "        \n",
    "    memory[idx] = low_byte"
   ]
  },
  {
   "cell_type": "code",
   "execution_count": 49,
   "id": "71b74a99",
   "metadata": {},
   "outputs": [
    {
     "name": "stdout",
     "output_type": "stream",
     "text": [
      "[0, 0, 0, 0]\n",
      "Concat(Concat(Concat(0, 0), 0), 0)\n",
      "\n",
      "[0, 17, 17, 17, 17]\n",
      "Concat(Concat(Concat(0, 17), 17), 17)\n",
      "Concat(Concat(Concat(17, 17), 17), 17)\n",
      "\n",
      "[0, 17, 17, 17, 34, 34, 34, 34]\n",
      "Concat(Concat(Concat(0, 17), 17), 17)\n",
      "Concat(Concat(Concat(17, 17), 17), 34)\n",
      "Concat(Concat(Concat(34, 34), 34), 34)\n",
      "\n",
      "[51, 68, 85, 17, 34, 34, 34, 34]\n",
      "Concat(Concat(Concat(51, 68), 85), 17)\n"
     ]
    }
   ],
   "source": [
    "mstore(0, '00' * 4)\n",
    "print(memory)\n",
    "print(mload(0))\n",
    "print()\n",
    "\n",
    "mstore(1, '11' * 4)\n",
    "print(memory)\n",
    "print(mload(0))\n",
    "print(mload(1))\n",
    "print()\n",
    "\n",
    "mstore(4, '22' * 4)\n",
    "print(memory)\n",
    "print(mload(0))\n",
    "print(mload(1))\n",
    "print(mload(4))\n",
    "print()\n",
    "\n",
    "mstore8(0, '33' * 4)\n",
    "mstore8(1, '44' * 4)\n",
    "mstore8(2, '55' * 4)\n",
    "print(memory)\n",
    "print(mload(0))"
   ]
  },
  {
   "cell_type": "markdown",
   "id": "9b30a197",
   "metadata": {},
   "source": [
    "### Bit vector memory read from symbolic addresses"
   ]
  },
  {
   "cell_type": "code",
   "execution_count": 50,
   "id": "e025c815",
   "metadata": {},
   "outputs": [],
   "source": [
    "from z3 import *\n",
    "\n",
    "memory = Array('memory', BitVecSort(32), BitVecSort(8))\n",
    "# XXX\n",
    "mem_length = 0\n",
    "\n",
    "def grow_to(length):\n",
    "    global memory, mem_length\n",
    "    while mem_length < length:\n",
    "        # XXX\n",
    "        memory = Store(memory, mem_length, 0)\n",
    "        mem_length += 1\n",
    "        \n",
    "def coerce_byte(byte):\n",
    "    if isinstance(byte, int):\n",
    "        return BitVecVal(byte, 8)\n",
    "    \n",
    "    return byte\n",
    "\n",
    "def mload(idx):\n",
    "    # XXX\n",
    "    # assert isinstance(idx, int), 'MLOAD: requires concrete index'\n",
    "    \n",
    "    # XXX\n",
    "    # grow_to(idx + 4)\n",
    "    \n",
    "    # XXX\n",
    "    rv = coerce_byte(If(idx >= mem_length, 0, memory[idx]))\n",
    "    for offset in range(1, 4):\n",
    "        # XXX\n",
    "        v = coerce_byte(If(idx + offset >= mem_length, 0, memory[idx + offset]))\n",
    "        rv = Concat(rv, v)\n",
    "    return rv\n",
    "\n",
    "def mstore(idx, val):\n",
    "    global memory\n",
    "    \n",
    "    assert isinstance(idx, int), 'MSTORE: requires concrete index'\n",
    "    \n",
    "    grow_to(idx + 4)\n",
    "    \n",
    "    if isinstance(val, str):\n",
    "        val = bytes.fromhex(val)\n",
    "        for offset in range(4):\n",
    "            # XXX\n",
    "            memory = Store(memory, idx + offset, val[offset])\n",
    "    else:\n",
    "        for offset in range(4):\n",
    "            start_idx = 8 * offset\n",
    "            # XXX            \n",
    "            memory = Store(memory, idx + offset, Extract(7 + start_idx, start_idx, val))\n",
    "\n",
    "def mstore8(idx, val):\n",
    "    global memory\n",
    "    \n",
    "    assert isinstance(idx, int), 'MSTORE8: requires concrete index'\n",
    "    \n",
    "    grow_to(idx + 1)\n",
    "    \n",
    "    if isinstance(val, str):\n",
    "        low_byte = bytes.fromhex(val)[3]\n",
    "    else:\n",
    "        low_byte = Extract(7, 0, val)\n",
    "\n",
    "    memory = Store(memory, idx, low_byte)"
   ]
  },
  {
   "cell_type": "code",
   "execution_count": 51,
   "id": "354257e6",
   "metadata": {},
   "outputs": [
    {
     "name": "stdout",
     "output_type": "stream",
     "text": [
      "0\n",
      "0\n",
      "\n",
      "1118481\n",
      "1118481\n",
      "\n",
      "286331153\n",
      "286331153\n",
      "\n",
      "1118481\n",
      "1118481\n",
      "\n",
      "286331170\n",
      "286331170\n",
      "\n",
      "572662306\n",
      "572662306\n",
      "\n",
      "860116241\n",
      "860116241\n",
      "\n"
     ]
    }
   ],
   "source": [
    "mstore(0, '00' * 4)\n",
    "print(0x00000000)\n",
    "print(simplify(mload(0)))\n",
    "print()\n",
    "\n",
    "mstore(1, '11' * 4)\n",
    "print(0x00111111)\n",
    "print(simplify(mload(0)))\n",
    "print()\n",
    "print(0x11111111)\n",
    "print(simplify(mload(1)))\n",
    "print()\n",
    "\n",
    "mstore(4, '22' * 4)\n",
    "print(0x00111111)\n",
    "print(simplify(mload(0)))\n",
    "print()\n",
    "print(0x11111122)\n",
    "print(simplify(mload(1)))\n",
    "print()\n",
    "print(0x22222222)\n",
    "print(simplify(mload(4)))\n",
    "print()\n",
    "\n",
    "mstore8(0, '33' * 4)\n",
    "mstore8(1, '44' * 4)\n",
    "mstore8(2, '55' * 4)\n",
    "print(0x33445511)\n",
    "print(simplify(mload(0)))\n",
    "print()"
   ]
  },
  {
   "cell_type": "code",
   "execution_count": 52,
   "id": "ae62f48b",
   "metadata": {},
   "outputs": [
    {
     "data": {
      "text/html": [
       "Concat(If(8 &le; idx,\n",
       "          0,\n",
       "          Store(Store(Store(Store(Store(Store(Store(Store(Store(Store(Store(Store(Store(Store(Store(Store(Store(Store(&hellip;,\n",
       "                                        &hellip;,\n",
       "                                        &hellip;),\n",
       "                                        2,\n",
       "                                        0),\n",
       "                                        3,\n",
       "                                        0),\n",
       "                                        4,\n",
       "                                        0),\n",
       "                                        1,\n",
       "                                        17),\n",
       "                                        2,\n",
       "                                        17),\n",
       "                                        3,\n",
       "                                        17),\n",
       "                                        4,\n",
       "                                        17),\n",
       "                                        5,\n",
       "                                        0),\n",
       "                                        6,\n",
       "                                        0),\n",
       "                                        7,\n",
       "                                        0),\n",
       "                                        4,\n",
       "                                        34),\n",
       "                                        5,\n",
       "                                        34),\n",
       "                                        6,\n",
       "                                        34),\n",
       "                                  7,\n",
       "                                  34),\n",
       "                            0,\n",
       "                            51),\n",
       "                      1,\n",
       "                      68),\n",
       "                2,\n",
       "                85)[idx]),\n",
       "       If(8 &le; 1 + idx,\n",
       "          0,\n",
       "          Store(Store(Store(Store(Store(Store(Store(Store(Store(Store(Store(Store(Store(Store(Store(Store(Store(Store(&hellip;,\n",
       "                                        &hellip;,\n",
       "                                        &hellip;),\n",
       "                                        2,\n",
       "                                        0),\n",
       "                                        3,\n",
       "                                        0),\n",
       "                                        4,\n",
       "                                        0),\n",
       "                                        1,\n",
       "                                        17),\n",
       "                                        2,\n",
       "                                        17),\n",
       "                                        3,\n",
       "                                        17),\n",
       "                                        4,\n",
       "                                        17),\n",
       "                                        5,\n",
       "                                        0),\n",
       "                                        6,\n",
       "                                        0),\n",
       "                                        7,\n",
       "                                        0),\n",
       "                                        4,\n",
       "                                        34),\n",
       "                                        5,\n",
       "                                        34),\n",
       "                                        6,\n",
       "                                        34),\n",
       "                                  7,\n",
       "                                  34),\n",
       "                            0,\n",
       "                            51),\n",
       "                      1,\n",
       "                      68),\n",
       "                2,\n",
       "                85)[1 + idx]),\n",
       "       If(8 &le; 2 + idx,\n",
       "          0,\n",
       "          Store(Store(Store(Store(Store(Store(Store(Store(Store(Store(Store(Store(Store(Store(Store(Store(Store(Store(&hellip;,\n",
       "                                        &hellip;,\n",
       "                                        &hellip;),\n",
       "                                        2,\n",
       "                                        0),\n",
       "                                        3,\n",
       "                                        0),\n",
       "                                        4,\n",
       "                                        0),\n",
       "                                        1,\n",
       "                                        17),\n",
       "                                        2,\n",
       "                                        17),\n",
       "                                        3,\n",
       "                                        17),\n",
       "                                        4,\n",
       "                                        17),\n",
       "                                        5,\n",
       "                                        0),\n",
       "                                        6,\n",
       "                                        0),\n",
       "                                        7,\n",
       "                                        0),\n",
       "                                        4,\n",
       "                                        34),\n",
       "                                        5,\n",
       "                                        34),\n",
       "                                        6,\n",
       "                                        34),\n",
       "                                  7,\n",
       "                                  34),\n",
       "                            0,\n",
       "                            51),\n",
       "                      1,\n",
       "                      68),\n",
       "                2,\n",
       "                85)[2 + idx]),\n",
       "       If(8 &le; 3 + idx,\n",
       "          0,\n",
       "          Store(Store(Store(Store(Store(Store(Store(Store(Store(Store(Store(Store(Store(Store(Store(Store(Store(Store(&hellip;,\n",
       "                                        &hellip;,\n",
       "                                        &hellip;),\n",
       "                                        2,\n",
       "                                        0),\n",
       "                                        3,\n",
       "                                        0),\n",
       "                                        4,\n",
       "                                        0),\n",
       "                                        1,\n",
       "                                        17),\n",
       "                                        2,\n",
       "                                        17),\n",
       "                                        3,\n",
       "                                        17),\n",
       "                                        4,\n",
       "                                        17),\n",
       "                                        5,\n",
       "                                        0),\n",
       "                                        6,\n",
       "                                        0),\n",
       "                                        7,\n",
       "                                        0),\n",
       "                                        4,\n",
       "                                        34),\n",
       "                                        5,\n",
       "                                        34),\n",
       "                                        6,\n",
       "                                        34),\n",
       "                                  7,\n",
       "                                  34),\n",
       "                            0,\n",
       "                            51),\n",
       "                      1,\n",
       "                      68),\n",
       "                2,\n",
       "                85)[3 + idx]))"
      ],
      "text/plain": [
       "Concat(If(8 <= idx,\n",
       "          0,\n",
       "          Store(Store(Store(Store(Store(Store(Store(Store(Store(Store(Store(Store(Store(Store(Store(Store(Store(Store(...,\n",
       "                                        ...,\n",
       "                                        ...),\n",
       "                                        2,\n",
       "                                        0),\n",
       "                                        3,\n",
       "                                        0),\n",
       "                                        4,\n",
       "                                        0),\n",
       "                                        1,\n",
       "                                        17),\n",
       "                                        2,\n",
       "                                        17),\n",
       "                                        3,\n",
       "                                        17),\n",
       "                                        4,\n",
       "                                        17),\n",
       "                                        5,\n",
       "                                        0),\n",
       "                                        6,\n",
       "                                        0),\n",
       "                                        7,\n",
       "                                        0),\n",
       "                                        4,\n",
       "                                        34),\n",
       "                                        5,\n",
       "                                        34),\n",
       "                                        6,\n",
       "                                        34),\n",
       "                                  7,\n",
       "                                  34),\n",
       "                            0,\n",
       "                            51),\n",
       "                      1,\n",
       "                      68),\n",
       "                2,\n",
       "                85)[idx]),\n",
       "       If(8 <= 1 + idx,\n",
       "          0,\n",
       "          Store(Store(Store(Store(Store(Store(Store(Store(Store(Store(Store(Store(Store(Store(Store(Store(Store(Store(...,\n",
       "                                        ...,\n",
       "                                        ...),\n",
       "                                        2,\n",
       "                                        0),\n",
       "                                        3,\n",
       "                                        0),\n",
       "                                        4,\n",
       "                                        0),\n",
       "                                        1,\n",
       "                                        17),\n",
       "                                        2,\n",
       "                                        17),\n",
       "                                        3,\n",
       "                                        17),\n",
       "                                        4,\n",
       "                                        17),\n",
       "                                        5,\n",
       "                                        0),\n",
       "                                        6,\n",
       "                                        0),\n",
       "                                        7,\n",
       "                                        0),\n",
       "                                        4,\n",
       "                                        34),\n",
       "                                        5,\n",
       "                                        34),\n",
       "                                        6,\n",
       "                                        34),\n",
       "                                  7,\n",
       "                                  34),\n",
       "                            0,\n",
       "                            51),\n",
       "                      1,\n",
       "                      68),\n",
       "                2,\n",
       "                85)[1 + idx]),\n",
       "       If(8 <= 2 + idx,\n",
       "          0,\n",
       "          Store(Store(Store(Store(Store(Store(Store(Store(Store(Store(Store(Store(Store(Store(Store(Store(Store(Store(...,\n",
       "                                        ...,\n",
       "                                        ...),\n",
       "                                        2,\n",
       "                                        0),\n",
       "                                        3,\n",
       "                                        0),\n",
       "                                        4,\n",
       "                                        0),\n",
       "                                        1,\n",
       "                                        17),\n",
       "                                        2,\n",
       "                                        17),\n",
       "                                        3,\n",
       "                                        17),\n",
       "                                        4,\n",
       "                                        17),\n",
       "                                        5,\n",
       "                                        0),\n",
       "                                        6,\n",
       "                                        0),\n",
       "                                        7,\n",
       "                                        0),\n",
       "                                        4,\n",
       "                                        34),\n",
       "                                        5,\n",
       "                                        34),\n",
       "                                        6,\n",
       "                                        34),\n",
       "                                  7,\n",
       "                                  34),\n",
       "                            0,\n",
       "                            51),\n",
       "                      1,\n",
       "                      68),\n",
       "                2,\n",
       "                85)[2 + idx]),\n",
       "       If(8 <= 3 + idx,\n",
       "          0,\n",
       "          Store(Store(Store(Store(Store(Store(Store(Store(Store(Store(Store(Store(Store(Store(Store(Store(Store(Store(...,\n",
       "                                        ...,\n",
       "                                        ...),\n",
       "                                        2,\n",
       "                                        0),\n",
       "                                        3,\n",
       "                                        0),\n",
       "                                        4,\n",
       "                                        0),\n",
       "                                        1,\n",
       "                                        17),\n",
       "                                        2,\n",
       "                                        17),\n",
       "                                        3,\n",
       "                                        17),\n",
       "                                        4,\n",
       "                                        17),\n",
       "                                        5,\n",
       "                                        0),\n",
       "                                        6,\n",
       "                                        0),\n",
       "                                        7,\n",
       "                                        0),\n",
       "                                        4,\n",
       "                                        34),\n",
       "                                        5,\n",
       "                                        34),\n",
       "                                        6,\n",
       "                                        34),\n",
       "                                  7,\n",
       "                                  34),\n",
       "                            0,\n",
       "                            51),\n",
       "                      1,\n",
       "                      68),\n",
       "                2,\n",
       "                85)[3 + idx]))"
      ]
     },
     "execution_count": 52,
     "metadata": {},
     "output_type": "execute_result"
    }
   ],
   "source": [
    "idx = BitVec('idx', 32)\n",
    "val = mload(idx)\n",
    "simplify(val)"
   ]
  },
  {
   "cell_type": "code",
   "execution_count": 53,
   "id": "10697ac2",
   "metadata": {},
   "outputs": [
    {
     "name": "stdout",
     "output_type": "stream",
     "text": [
      "860116241\n",
      "860116241\n"
     ]
    }
   ],
   "source": [
    "s = Solver()\n",
    "s.add(idx == 0)\n",
    "s.check()\n",
    "print(0x33445511)\n",
    "print(s.model().eval(val))"
   ]
  },
  {
   "cell_type": "code",
   "execution_count": 54,
   "id": "c5c54f14",
   "metadata": {},
   "outputs": [
    {
     "name": "stdout",
     "output_type": "stream",
     "text": [
      "572662306\n",
      "572662306\n"
     ]
    }
   ],
   "source": [
    "s = Solver()\n",
    "s.add(idx == 4)\n",
    "s.check()\n",
    "print(0x22222222)\n",
    "print(s.model().eval(val))"
   ]
  },
  {
   "cell_type": "code",
   "execution_count": 55,
   "id": "ec9e73a5",
   "metadata": {},
   "outputs": [
    {
     "name": "stdout",
     "output_type": "stream",
     "text": [
      "572662272\n",
      "572662272\n"
     ]
    }
   ],
   "source": [
    "s = Solver()\n",
    "s.add(idx == 5)\n",
    "s.check()\n",
    "print(0x22222200)\n",
    "print(s.model().eval(val))"
   ]
  },
  {
   "cell_type": "markdown",
   "id": "0f58af1f",
   "metadata": {},
   "source": [
    "### Bit vector memory read/write symbolic addresses"
   ]
  },
  {
   "cell_type": "code",
   "execution_count": 56,
   "id": "bb7ab8a4",
   "metadata": {},
   "outputs": [],
   "source": [
    "from z3 import *\n",
    "\n",
    "memory = Array('memory', BitVecSort(32), BitVecSort(8))\n",
    "# XXX\n",
    "mem_length = BitVecVal(0, 32)\n",
    "\n",
    "def grow_to(length):\n",
    "    global mem_length\n",
    "    # XXX\n",
    "    mem_length = If(length > mem_length, length, mem_length)\n",
    "        \n",
    "def coerce_byte(byte):\n",
    "    if isinstance(byte, int):\n",
    "        return BitVecVal(byte, 8)\n",
    "    \n",
    "    return byte\n",
    "\n",
    "def mload(idx):\n",
    "    rv = coerce_byte(If(idx >= mem_length, 0, memory[idx]))\n",
    "    for offset in range(1, 4):\n",
    "        v = coerce_byte(If(idx + offset >= mem_length, 0, memory[idx + offset]))\n",
    "        rv = Concat(rv, v)\n",
    "    return rv\n",
    "\n",
    "def mstore(idx, val):\n",
    "    global memory\n",
    "    \n",
    "    # XXX\n",
    "    # assert isinstance(idx, int), 'MSTORE: requires concrete index'\n",
    "    \n",
    "    grow_to(idx + 4)\n",
    "    \n",
    "    if isinstance(val, str):\n",
    "        val = bytes.fromhex(val)\n",
    "        for offset in range(4):\n",
    "            memory = Store(memory, idx + offset, val[offset])\n",
    "    else:\n",
    "        for offset in range(4):\n",
    "            start_idx = 8 * offset            \n",
    "            memory = Store(memory, idx + offset, Extract(7 + start_idx, start_idx, val))\n",
    "\n",
    "def mstore8(idx, val):\n",
    "    global memory\n",
    "    \n",
    "    # XXX\n",
    "    # assert isinstance(idx, int), 'MSTORE8: requires concrete index'\n",
    "    \n",
    "    grow_to(idx + 1)\n",
    "    \n",
    "    if isinstance(val, str):\n",
    "        low_byte = bytes.fromhex(val)[3]\n",
    "    else:\n",
    "        low_byte = Extract(7, 0, val)\n",
    "\n",
    "    memory = Store(memory, idx, low_byte)"
   ]
  },
  {
   "cell_type": "code",
   "execution_count": 57,
   "id": "197a2721",
   "metadata": {},
   "outputs": [
    {
     "name": "stdout",
     "output_type": "stream",
     "text": [
      "0\n",
      "0\n",
      "\n",
      "1118481\n",
      "1118481\n",
      "\n",
      "286331153\n",
      "286331153\n",
      "\n",
      "1118481\n",
      "1118481\n",
      "\n",
      "286331170\n",
      "286331170\n",
      "\n",
      "572662306\n",
      "572662306\n",
      "\n",
      "860116241\n",
      "860116241\n",
      "\n"
     ]
    }
   ],
   "source": [
    "mstore(0, '00' * 4)\n",
    "print(0x00000000)\n",
    "print(simplify(mload(0)))\n",
    "print()\n",
    "\n",
    "mstore(1, '11' * 4)\n",
    "print(0x00111111)\n",
    "print(simplify(mload(0)))\n",
    "print()\n",
    "print(0x11111111)\n",
    "print(simplify(mload(1)))\n",
    "print()\n",
    "\n",
    "mstore(4, '22' * 4)\n",
    "print(0x00111111)\n",
    "print(simplify(mload(0)))\n",
    "print()\n",
    "print(0x11111122)\n",
    "print(simplify(mload(1)))\n",
    "print()\n",
    "print(0x22222222)\n",
    "print(simplify(mload(4)))\n",
    "print()\n",
    "\n",
    "mstore8(0, '33' * 4)\n",
    "mstore8(1, '44' * 4)\n",
    "mstore8(2, '55' * 4)\n",
    "print(0x33445511)\n",
    "print(simplify(mload(0)))\n",
    "print()"
   ]
  },
  {
   "cell_type": "code",
   "execution_count": 58,
   "id": "033bb1e2",
   "metadata": {},
   "outputs": [
    {
     "data": {
      "text/html": [
       "Concat(If(8 &le; idx,\n",
       "          0,\n",
       "          Store(Store(Store(Store(Store(Store(Store(Store(Store(Store(Store(Store(Store(Store(memory,\n",
       "                                        0,\n",
       "                                        0),\n",
       "                                        1,\n",
       "                                        0),\n",
       "                                        2,\n",
       "                                        0),\n",
       "                                        3,\n",
       "                                        0),\n",
       "                                        1,\n",
       "                                        17),\n",
       "                                        2,\n",
       "                                        17),\n",
       "                                        3,\n",
       "                                        17),\n",
       "                                        4,\n",
       "                                        34),\n",
       "                                        5,\n",
       "                                        34),\n",
       "                                        6,\n",
       "                                        34),\n",
       "                                  7,\n",
       "                                  34),\n",
       "                            0,\n",
       "                            51),\n",
       "                      1,\n",
       "                      68),\n",
       "                2,\n",
       "                85)[idx]),\n",
       "       If(8 &le; 1 + idx,\n",
       "          0,\n",
       "          Store(Store(Store(Store(Store(Store(Store(Store(Store(Store(Store(Store(Store(Store(memory,\n",
       "                                        0,\n",
       "                                        0),\n",
       "                                        1,\n",
       "                                        0),\n",
       "                                        2,\n",
       "                                        0),\n",
       "                                        3,\n",
       "                                        0),\n",
       "                                        1,\n",
       "                                        17),\n",
       "                                        2,\n",
       "                                        17),\n",
       "                                        3,\n",
       "                                        17),\n",
       "                                        4,\n",
       "                                        34),\n",
       "                                        5,\n",
       "                                        34),\n",
       "                                        6,\n",
       "                                        34),\n",
       "                                  7,\n",
       "                                  34),\n",
       "                            0,\n",
       "                            51),\n",
       "                      1,\n",
       "                      68),\n",
       "                2,\n",
       "                85)[1 + idx]),\n",
       "       If(8 &le; 2 + idx,\n",
       "          0,\n",
       "          Store(Store(Store(Store(Store(Store(Store(Store(Store(Store(Store(Store(Store(Store(memory,\n",
       "                                        0,\n",
       "                                        0),\n",
       "                                        1,\n",
       "                                        0),\n",
       "                                        2,\n",
       "                                        0),\n",
       "                                        3,\n",
       "                                        0),\n",
       "                                        1,\n",
       "                                        17),\n",
       "                                        2,\n",
       "                                        17),\n",
       "                                        3,\n",
       "                                        17),\n",
       "                                        4,\n",
       "                                        34),\n",
       "                                        5,\n",
       "                                        34),\n",
       "                                        6,\n",
       "                                        34),\n",
       "                                  7,\n",
       "                                  34),\n",
       "                            0,\n",
       "                            51),\n",
       "                      1,\n",
       "                      68),\n",
       "                2,\n",
       "                85)[2 + idx]),\n",
       "       If(8 &le; 3 + idx,\n",
       "          0,\n",
       "          Store(Store(Store(Store(Store(Store(Store(Store(Store(Store(Store(Store(Store(Store(memory,\n",
       "                                        0,\n",
       "                                        0),\n",
       "                                        1,\n",
       "                                        0),\n",
       "                                        2,\n",
       "                                        0),\n",
       "                                        3,\n",
       "                                        0),\n",
       "                                        1,\n",
       "                                        17),\n",
       "                                        2,\n",
       "                                        17),\n",
       "                                        3,\n",
       "                                        17),\n",
       "                                        4,\n",
       "                                        34),\n",
       "                                        5,\n",
       "                                        34),\n",
       "                                        6,\n",
       "                                        34),\n",
       "                                  7,\n",
       "                                  34),\n",
       "                            0,\n",
       "                            51),\n",
       "                      1,\n",
       "                      68),\n",
       "                2,\n",
       "                85)[3 + idx]))"
      ],
      "text/plain": [
       "Concat(If(8 <= idx,\n",
       "          0,\n",
       "          Store(Store(Store(Store(Store(Store(Store(Store(Store(Store(Store(Store(Store(Store(memory,\n",
       "                                        0,\n",
       "                                        0),\n",
       "                                        1,\n",
       "                                        0),\n",
       "                                        2,\n",
       "                                        0),\n",
       "                                        3,\n",
       "                                        0),\n",
       "                                        1,\n",
       "                                        17),\n",
       "                                        2,\n",
       "                                        17),\n",
       "                                        3,\n",
       "                                        17),\n",
       "                                        4,\n",
       "                                        34),\n",
       "                                        5,\n",
       "                                        34),\n",
       "                                        6,\n",
       "                                        34),\n",
       "                                  7,\n",
       "                                  34),\n",
       "                            0,\n",
       "                            51),\n",
       "                      1,\n",
       "                      68),\n",
       "                2,\n",
       "                85)[idx]),\n",
       "       If(8 <= 1 + idx,\n",
       "          0,\n",
       "          Store(Store(Store(Store(Store(Store(Store(Store(Store(Store(Store(Store(Store(Store(memory,\n",
       "                                        0,\n",
       "                                        0),\n",
       "                                        1,\n",
       "                                        0),\n",
       "                                        2,\n",
       "                                        0),\n",
       "                                        3,\n",
       "                                        0),\n",
       "                                        1,\n",
       "                                        17),\n",
       "                                        2,\n",
       "                                        17),\n",
       "                                        3,\n",
       "                                        17),\n",
       "                                        4,\n",
       "                                        34),\n",
       "                                        5,\n",
       "                                        34),\n",
       "                                        6,\n",
       "                                        34),\n",
       "                                  7,\n",
       "                                  34),\n",
       "                            0,\n",
       "                            51),\n",
       "                      1,\n",
       "                      68),\n",
       "                2,\n",
       "                85)[1 + idx]),\n",
       "       If(8 <= 2 + idx,\n",
       "          0,\n",
       "          Store(Store(Store(Store(Store(Store(Store(Store(Store(Store(Store(Store(Store(Store(memory,\n",
       "                                        0,\n",
       "                                        0),\n",
       "                                        1,\n",
       "                                        0),\n",
       "                                        2,\n",
       "                                        0),\n",
       "                                        3,\n",
       "                                        0),\n",
       "                                        1,\n",
       "                                        17),\n",
       "                                        2,\n",
       "                                        17),\n",
       "                                        3,\n",
       "                                        17),\n",
       "                                        4,\n",
       "                                        34),\n",
       "                                        5,\n",
       "                                        34),\n",
       "                                        6,\n",
       "                                        34),\n",
       "                                  7,\n",
       "                                  34),\n",
       "                            0,\n",
       "                            51),\n",
       "                      1,\n",
       "                      68),\n",
       "                2,\n",
       "                85)[2 + idx]),\n",
       "       If(8 <= 3 + idx,\n",
       "          0,\n",
       "          Store(Store(Store(Store(Store(Store(Store(Store(Store(Store(Store(Store(Store(Store(memory,\n",
       "                                        0,\n",
       "                                        0),\n",
       "                                        1,\n",
       "                                        0),\n",
       "                                        2,\n",
       "                                        0),\n",
       "                                        3,\n",
       "                                        0),\n",
       "                                        1,\n",
       "                                        17),\n",
       "                                        2,\n",
       "                                        17),\n",
       "                                        3,\n",
       "                                        17),\n",
       "                                        4,\n",
       "                                        34),\n",
       "                                        5,\n",
       "                                        34),\n",
       "                                        6,\n",
       "                                        34),\n",
       "                                  7,\n",
       "                                  34),\n",
       "                            0,\n",
       "                            51),\n",
       "                      1,\n",
       "                      68),\n",
       "                2,\n",
       "                85)[3 + idx]))"
      ]
     },
     "execution_count": 58,
     "metadata": {},
     "output_type": "execute_result"
    }
   ],
   "source": [
    "idx = BitVec('idx', 32)\n",
    "val = mload(idx)\n",
    "simplify(val)"
   ]
  },
  {
   "cell_type": "code",
   "execution_count": 59,
   "id": "7cf2c76b",
   "metadata": {},
   "outputs": [
    {
     "name": "stdout",
     "output_type": "stream",
     "text": [
      "860116241\n",
      "860116241\n"
     ]
    }
   ],
   "source": [
    "s = Solver()\n",
    "s.add(idx == 0)\n",
    "s.check()\n",
    "print(0x33445511)\n",
    "print(s.model().eval(val))"
   ]
  },
  {
   "cell_type": "code",
   "execution_count": 60,
   "id": "10eb9f38",
   "metadata": {},
   "outputs": [
    {
     "name": "stdout",
     "output_type": "stream",
     "text": [
      "572662306\n",
      "572662306\n"
     ]
    }
   ],
   "source": [
    "s = Solver()\n",
    "s.add(idx == 4)\n",
    "s.check()\n",
    "print(0x22222222)\n",
    "print(s.model().eval(val))"
   ]
  },
  {
   "cell_type": "code",
   "execution_count": 61,
   "id": "28ee56e1",
   "metadata": {},
   "outputs": [
    {
     "name": "stdout",
     "output_type": "stream",
     "text": [
      "572662272\n",
      "572662272\n"
     ]
    }
   ],
   "source": [
    "s = Solver()\n",
    "s.add(idx == 5)\n",
    "s.check()\n",
    "print(0x22222200)\n",
    "print(s.model().eval(val))"
   ]
  },
  {
   "cell_type": "code",
   "execution_count": 62,
   "id": "bb346b43",
   "metadata": {},
   "outputs": [
    {
     "data": {
      "text/html": [
       "Concat(If(If(4 + idx2 &le; 8, 8, 4 + idx2) &le; idx2, 0, 85),\n",
       "       If(If(4 + idx2 &le; 8, 8, 4 + idx2) &le; 1 + idx2, 0, 85),\n",
       "       If(If(4 + idx2 &le; 8, 8, 4 + idx2) &le; 2 + idx2, 0, 85),\n",
       "       If(If(4 + idx2 &le; 8, 8, 4 + idx2) &le; 3 + idx2, 0, 85))"
      ],
      "text/plain": [
       "Concat(If(If(4 + idx2 <= 8, 8, 4 + idx2) <= idx2, 0, 85),\n",
       "       If(If(4 + idx2 <= 8, 8, 4 + idx2) <= 1 + idx2, 0, 85),\n",
       "       If(If(4 + idx2 <= 8, 8, 4 + idx2) <= 2 + idx2, 0, 85),\n",
       "       If(If(4 + idx2 <= 8, 8, 4 + idx2) <= 3 + idx2, 0, 85))"
      ]
     },
     "execution_count": 62,
     "metadata": {},
     "output_type": "execute_result"
    }
   ],
   "source": [
    "idx2 = BitVec('idx2', 32)\n",
    "mstore(idx2, '55' * 4)\n",
    "val = mload(idx2)\n",
    "simplify(val)"
   ]
  },
  {
   "cell_type": "code",
   "execution_count": 63,
   "id": "553b2501",
   "metadata": {},
   "outputs": [
    {
     "name": "stdout",
     "output_type": "stream",
     "text": [
      "1431655765\n",
      "1431655765\n"
     ]
    }
   ],
   "source": [
    "s = Solver()\n",
    "s.add(idx2 == 0)\n",
    "s.check()\n",
    "print(0x55555555)\n",
    "print(s.model().eval(val))"
   ]
  },
  {
   "cell_type": "code",
   "execution_count": 64,
   "id": "32bdc9b8",
   "metadata": {},
   "outputs": [
    {
     "name": "stdout",
     "output_type": "stream",
     "text": [
      "1431655714\n",
      "1431655714\n"
     ]
    }
   ],
   "source": [
    "s = Solver()\n",
    "s.add(idx2 == 0)\n",
    "s.check()\n",
    "print(0x55555522)\n",
    "print(s.model().eval(mload(1)))"
   ]
  },
  {
   "cell_type": "markdown",
   "id": "23c09834",
   "metadata": {},
   "source": [
    "### Bit vector key value store (EVM storage)"
   ]
  },
  {
   "cell_type": "code",
   "execution_count": 72,
   "id": "46da6296",
   "metadata": {},
   "outputs": [],
   "source": [
    "storage = K(BitVecSort(32), BitVecVal(0, 32))\n",
    "\n",
    "def sstore(idx, val):\n",
    "    global storage    \n",
    "    \n",
    "    if isinstance(val, str):\n",
    "        val = int.from_bytes(bytes.fromhex(val), byteorder='big')\n",
    "        \n",
    "    storage = Store(storage, idx, val)        \n",
    "\n",
    "def sload(idx):\n",
    "    return storage[idx]"
   ]
  },
  {
   "cell_type": "code",
   "execution_count": 73,
   "id": "b0516523",
   "metadata": {},
   "outputs": [
    {
     "name": "stdout",
     "output_type": "stream",
     "text": [
      "0\n",
      "\n",
      "286331153\n",
      "286331153\n",
      "\n",
      "286331153\n",
      "286331153\n",
      "\n",
      "572662306\n",
      "572662306\n",
      "\n"
     ]
    }
   ],
   "source": [
    "print(simplify(sload(0)))\n",
    "print()\n",
    "\n",
    "sstore(0, '11' * 4)\n",
    "print(0x11111111)\n",
    "print(simplify(sload(0)))\n",
    "print()\n",
    "\n",
    "sstore(1, '22' * 4)\n",
    "print(0x11111111)\n",
    "print(simplify(sload(0)))\n",
    "print()\n",
    "print(0x22222222)\n",
    "print(simplify(sload(1)))\n",
    "print()"
   ]
  },
  {
   "cell_type": "code",
   "execution_count": 77,
   "id": "a594022d",
   "metadata": {},
   "outputs": [
    {
     "data": {
      "text/html": [
       "val"
      ],
      "text/plain": [
       "val"
      ]
     },
     "execution_count": 77,
     "metadata": {},
     "output_type": "execute_result"
    }
   ],
   "source": [
    "val = BitVec('val', 32)\n",
    "sstore(0, val)\n",
    "simplify(sload(0))"
   ]
  },
  {
   "cell_type": "code",
   "execution_count": 75,
   "id": "2b4c7fef",
   "metadata": {},
   "outputs": [
    {
     "data": {
      "text/html": [
       "Store(Store(Store(K(BitVec(32), 0), 0, 286331153),\n",
       "            1,\n",
       "            572662306),\n",
       "      0,\n",
       "      x)[idx]"
      ],
      "text/plain": [
       "Store(Store(Store(K(BitVec(32), 0), 0, 286331153),\n",
       "            1,\n",
       "            572662306),\n",
       "      0,\n",
       "      x)[idx]"
      ]
     },
     "execution_count": 75,
     "metadata": {},
     "output_type": "execute_result"
    }
   ],
   "source": [
    "idx = BitVec('idx', 32)\n",
    "val = sload(idx)"
   ]
  },
  {
   "cell_type": "code",
   "execution_count": 76,
   "id": "90f375c8",
   "metadata": {},
   "outputs": [
    {
     "name": "stdout",
     "output_type": "stream",
     "text": [
      "572662306\n",
      "572662306\n"
     ]
    }
   ],
   "source": [
    "s = Solver()\n",
    "s.add(idx == 1)\n",
    "s.check()\n",
    "print(0x22222222)\n",
    "print(s.model().eval(sload(idx)))"
   ]
  }
 ],
 "metadata": {
  "kernelspec": {
   "display_name": "Python 3 (ipykernel)",
   "language": "python",
   "name": "python3"
  },
  "language_info": {
   "codemirror_mode": {
    "name": "ipython",
    "version": 3
   },
   "file_extension": ".py",
   "mimetype": "text/x-python",
   "name": "python",
   "nbconvert_exporter": "python",
   "pygments_lexer": "ipython3",
   "version": "3.10.2"
  }
 },
 "nbformat": 4,
 "nbformat_minor": 5
}
