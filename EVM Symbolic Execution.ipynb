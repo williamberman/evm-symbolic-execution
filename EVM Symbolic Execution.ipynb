{
 "cells": [
  {
   "cell_type": "markdown",
   "id": "66e7627a",
   "metadata": {},
   "source": [
    "# EVM Symbolic Execution\n",
    "\n",
    "Our goal is to add symbolic execution to a rust based implementation of the EVM.\n",
    "\n",
    "## Symbolic execution in the large\n",
    "Symbolic execution is a general (not EVM specific) program analysis technique.\n",
    "- [Symbolic Execution Introduction](https://en.wikipedia.org/wiki/Symbolic_execution) read the intro paragraph and the example.\n",
    "- [Symbolic Execution Lecture](https://www.youtube.com/watch?v=yRVZPvHYHzw) watch the whole thing. You should follow most all of it before you continue.\n",
    "\n",
    "Symbolic execution also has applications to the EVM. It can be used to find conditions that lead to assertion violations as well as other use cases. \n",
    "- [HEVM Symbolic Execution](https://fv.ethereum.org/2020/07/28/symbolic-hevm-release/) read the full post but do not attempt to understand everything.\n",
    "- [Dapptools testing integration](https://youtu.be/N9pJ9JieX10?t=990) Watch the linked timestamp to see how dapptools uses hevm to symbolically search for assertion failures\n",
    "\n",
    "All symbolic execution implementations rely on an SMT Solver. You should have a basic understanding of the SMT Solver's role from the Symbolic Execution Lecture. We will be using Z3 for our examples because it has a nice python library. For our actual implementation we will be as solver agnostic as possible.\n",
    "- [Z3 tutorial](https://theory.stanford.edu/~nikolaj/programmingz3.html) Read all of section 2 and sections 3.1-3.4. We will not be too deep in the weeds of the solver so focus on intuition instead of formal understanding. Feel free to play with some of the code samples.\n",
    "\n",
    "## Vocabulary\n",
    "- Concrete value - A value that is known at runtime. When concrete values are combined with other concrete values, the result is also concrete.\n",
    "- Symbolic value - A value that is not known at runtime. Symbolic values still have known and fixed types. When symbolic values are combined with both concrete and symbolic values, the result is also symbolic.\n",
    "- Memory model - How memory is represented so that it can hold symbolic values. \"Memory\" in the general sense of all readable and writable storage locations. I.e. for the EVM, the memory model refers to memory, storage, calldata, and code.\n",
    "- Concrete instruction - An instruction that only operates on concrete values.\n",
    "- Symbolic Instruction - An instruction that can operates on symbolic values, concrete values, and combinations of the two.\n",
    "- (Path) Constraint set - The set of constraints collected while executing the program. They constrain the set of possible concrete values that the symbolic values can represent.\n",
    "- Machine state - Abstract term referring to the current state of (a single) execution of the program. This includes the state of the memory mode, the constraint set, program counter, etc...\n",
    "- Interpreter - The function that takes in one machine state, executes an instruction, and returns multiple machine states. If the returning multiple machine states part confuses you, that's ok, assume it returns a single updated machine state for now.\n",
    "- Runtime - Abstract term referring to the code orchestrating the memory model, interpreter, and machine state to compute.\n",
    "- Solver - The SMT solver that is used to check if constraints can be satisfied.\n",
    "- Satisfied - There exists a possible solution to the set of constraints given. A solution can be used to replace symbolic values with concrete values that would lead to the current machine state.\n",
    "- Unsatisfied - The solver could not find a solution to the set of constraints given. An unsatisfied set of constraints is used to assume that the current machine state cannot exist and it should not be explored further. Note that this doesn't mean that one doesn't exist and can be a false negative.\n",
    "\n",
    "\n",
    "## Symbolic execution in the small\n",
    "We are going to walk through some examples of implementing symbolic execution against an EVM-like assembly language. \n",
    "\n",
    "All symbolic execution implementations follow a common pattern of taking an existing program runtime that executes over concrete values and modifying it such that...\n",
    "- All concrete readable and writable values are replaced with a memory model that handles symbolic values.\n",
    "- The interpreter executes symbolic instructions\n",
    "- The machine state tracks path constraints\n",
    "- The runtime can pass a set of path constraints to a solver to check for satisfiability\n",
    "- The Runtime can handle multiple concurrent machine states (ok if you don't understand why right now)\n",
    "\n",
    "We are going to work our way up from simpler machines to more complex machines adding incremental symbolic execution functionality as needed.\n",
    "\n",
    "One important thing to note is that there is not one way to implement symbolic execution and symbolic execution is not all or nothing. You can force parts of the runtime to only execute over concrete values and in fact frequently we do for performance reasons.\n",
    "\n",
    "Note that all python code runs on Python 3.10 and we use the library [z3-solver](https://pypi.org/project/z3-solver/) to interact with Z3."
   ]
  },
  {
   "cell_type": "markdown",
   "id": "7b665171",
   "metadata": {},
   "source": [
    "### Arithmetic operations on stack values\n",
    "Our first example will be assuming that our language has ADD and SUB instructions that operate on the stack. For simplicity sake, we will assume that we can store actual integers on the stack and not fixed width bit representations of integers. We consider the \"result\" of the program to be the item on the top of the stack when the program ends. Take this simple implementation."
   ]
  },
  {
   "cell_type": "code",
   "execution_count": 1,
   "id": "bc4a0405",
   "metadata": {},
   "outputs": [],
   "source": [
    "from dataclasses import dataclass\n",
    "\n",
    "@dataclass\n",
    "class ADD:\n",
    "    pass\n",
    "\n",
    "@dataclass\n",
    "class SUB:\n",
    "    pass\n",
    "\n",
    "@dataclass\n",
    "class PUSH:\n",
    "    n: int\n",
    "\n",
    "class StackArith:\n",
    "    def __init__(self, code):\n",
    "        self.pc = 0\n",
    "        self.code = code\n",
    "        self.stack = []\n",
    "        \n",
    "    def step(self):\n",
    "        instruction = self.code[self.pc]\n",
    "        self.pc += 1\n",
    "        match instruction:\n",
    "            case ADD():\n",
    "                self.stack.append(self.stack.pop() + self.stack.pop())\n",
    "            case SUB():\n",
    "                self.stack.append(self.stack.pop() - self.stack.pop())\n",
    "            case PUSH(n):\n",
    "                self.stack.append(n)\n",
    "            case _:\n",
    "                assert False\n",
    "                \n",
    "    def run(self):\n",
    "        while self.pc < len(self.code):\n",
    "            self.step()\n",
    "        return self.stack[-1]"
   ]
  },
  {
   "cell_type": "markdown",
   "id": "d4ffa35e",
   "metadata": {},
   "source": [
    "We can compute things!"
   ]
  },
  {
   "cell_type": "code",
   "execution_count": 2,
   "id": "14d84cd6",
   "metadata": {},
   "outputs": [
    {
     "data": {
      "text/plain": [
       "4"
      ]
     },
     "execution_count": 2,
     "metadata": {},
     "output_type": "execute_result"
    }
   ],
   "source": [
    "# (3 + 2) - 1 -> 4\n",
    "m = StackArith([PUSH(1), PUSH(2), PUSH(3), ADD(), SUB()])\n",
    "m.run()"
   ]
  },
  {
   "cell_type": "markdown",
   "id": "75bec4aa",
   "metadata": {},
   "source": [
    "Now what happens when we put symbolic values on the stack. Note that we don't have to change the implementation. This is because the z3 objects implement their own `+` method."
   ]
  },
  {
   "cell_type": "code",
   "execution_count": 3,
   "id": "1587bf1c",
   "metadata": {},
   "outputs": [
    {
     "data": {
      "text/html": [
       "z + y - x"
      ],
      "text/plain": [
       "z + y - x"
      ]
     },
     "execution_count": 3,
     "metadata": {},
     "output_type": "execute_result"
    }
   ],
   "source": [
    "from z3 import *\n",
    "m = StackArith([PUSH(Int('x')), PUSH(Int('y')), PUSH(Int('z')), ADD(), SUB()])\n",
    "m.run()"
   ]
  },
  {
   "cell_type": "markdown",
   "id": "ce7da14b",
   "metadata": {},
   "source": [
    "The result of the computation is also symbolic. Note that the z3 library prints a nice string representation of the compound symbolic value. The actual type of the python value is from the Z3 package and the sort is still int. \"Sorts\"  are the Z3 equivalent of type (is this actually true?). Really \"sort\" comes from smtlib and not Z3 but that's getting ahead of ourselves."
   ]
  },
  {
   "cell_type": "code",
   "execution_count": 4,
   "id": "34186ffa",
   "metadata": {},
   "outputs": [
    {
     "name": "stdout",
     "output_type": "stream",
     "text": [
      "<class 'z3.z3.ArithRef'>\n",
      "Int\n"
     ]
    }
   ],
   "source": [
    "m = StackArith([PUSH(Int('x')), PUSH(Int('y')), PUSH(Int('z')), ADD(), SUB()])\n",
    "res = m.run()\n",
    "print(res.__class__)\n",
    "print(res.sort())"
   ]
  },
  {
   "cell_type": "markdown",
   "id": "37797e11",
   "metadata": {},
   "source": [
    "We can also include concrete values on the stack, so the returned value contains both symbolic and concrete values."
   ]
  },
  {
   "cell_type": "code",
   "execution_count": 5,
   "id": "2e9d29c2",
   "metadata": {},
   "outputs": [
    {
     "data": {
      "text/html": [
       "3 + y - x"
      ],
      "text/plain": [
       "3 + y - x"
      ]
     },
     "execution_count": 5,
     "metadata": {},
     "output_type": "execute_result"
    }
   ],
   "source": [
    "m = StackArith([PUSH(Int('x')), PUSH(Int('y')), PUSH(3), ADD(), SUB()])\n",
    "m.run()"
   ]
  },
  {
   "cell_type": "markdown",
   "id": "f914b884",
   "metadata": {},
   "source": [
    "Just computing on symbolic values can be helpful in certain circumstances, but we want to be able to ask the question \"what inputs do I have to pass this program for it to give this output\". Let's add an additional instruction `ASSERT(n)` that adds the constraint that the top item on the stack is equal to its argument."
   ]
  },
  {
   "cell_type": "code",
   "execution_count": 6,
   "id": "be0929dd",
   "metadata": {},
   "outputs": [],
   "source": [
    "from dataclasses import dataclass\n",
    "from z3 import *\n",
    "\n",
    "@dataclass\n",
    "class ADD:\n",
    "    pass\n",
    "\n",
    "@dataclass\n",
    "class SUB:\n",
    "    pass\n",
    "\n",
    "@dataclass\n",
    "class PUSH:\n",
    "    n: int\n",
    "        \n",
    "@dataclass\n",
    "class ASSERT:\n",
    "    n: int\n",
    "\n",
    "class SymStackArith:\n",
    "    def __init__(self, code):\n",
    "        self.pc = 0\n",
    "        self.code = code\n",
    "        self.stack = []\n",
    "        # XXX We add the set of constraints to the machine state\n",
    "        # Solver is the object from the z3 package that can be used\n",
    "        # to hold constraints\n",
    "        self.constraints = Solver()\n",
    "        \n",
    "    def step(self):\n",
    "        instruction = self.code[self.pc]\n",
    "        self.pc += 1\n",
    "        match instruction:\n",
    "            case ADD():\n",
    "                self.stack.append(self.stack.pop() + self.stack.pop())\n",
    "            case SUB():\n",
    "                self.stack.append(self.stack.pop() - self.stack.pop())\n",
    "            case PUSH(n):\n",
    "                self.stack.append(n)\n",
    "            case ASSERT(n):\n",
    "                # XXX We add the constraint to the machine state.\n",
    "                self.constraints.add(self.stack[-1] == n)\n",
    "            case _:\n",
    "                assert False\n",
    "            \n",
    "    # Returns: (The symbolic value, the concrete value (if satisfiable), the model (if satisfiable))\n",
    "    def run(self):\n",
    "        while self.pc < len(self.code):\n",
    "            self.step()\n",
    "            \n",
    "        # XXX We check if the set of constraints is satisfiable.\n",
    "        rv = self.stack[-1]\n",
    "        if self.constraints.check() == sat:\n",
    "            model = self.constraints.model()\n",
    "            eval_rv = rv if isinstance(rv, int) else model.eval(rv)\n",
    "            return rv, eval_rv, model\n",
    "        else:\n",
    "            # The set of constraints is not satisfiable. There is no\n",
    "            # model or concrete value to return\n",
    "            return rv, None, None"
   ]
  },
  {
   "cell_type": "code",
   "execution_count": 7,
   "id": "0411e7e3",
   "metadata": {},
   "outputs": [
    {
     "data": {
      "text/plain": [
       "(z + y - x, 5, [y = 0, x = 0, z = 5])"
      ]
     },
     "execution_count": 7,
     "metadata": {},
     "output_type": "execute_result"
    }
   ],
   "source": [
    "m = SymStackArith([PUSH(Int('x')), PUSH(Int('y')), PUSH(Int('z')), ADD(), SUB(), ASSERT(5)])\n",
    "m.run()"
   ]
  },
  {
   "cell_type": "markdown",
   "id": "8e1d3005",
   "metadata": {},
   "source": [
    "The answer here is not terribly interesting, but it tells us that replacing x, y, and z with 0, 0, and 5 respectively will result in the final value on the stack being equal to 5. We can confirm this by re-running the same machine with the concrete values."
   ]
  },
  {
   "cell_type": "code",
   "execution_count": 8,
   "id": "232706dc",
   "metadata": {},
   "outputs": [
    {
     "data": {
      "text/plain": [
       "(5, 5, [])"
      ]
     },
     "execution_count": 8,
     "metadata": {},
     "output_type": "execute_result"
    }
   ],
   "source": [
    "m = SymStackArith([PUSH(0), PUSH(0), PUSH(5), ADD(), SUB()])\n",
    "m.run()"
   ]
  },
  {
   "cell_type": "markdown",
   "id": "e9ca100d",
   "metadata": {},
   "source": [
    "What happens when the solution is not satisfiable? Let's try a basic example where we assert one symbolic value to be equal to two different concrete values"
   ]
  },
  {
   "cell_type": "code",
   "execution_count": 9,
   "id": "4c057b0a",
   "metadata": {},
   "outputs": [
    {
     "data": {
      "text/plain": [
       "(x, None, None)"
      ]
     },
     "execution_count": 9,
     "metadata": {},
     "output_type": "execute_result"
    }
   ],
   "source": [
    "m = SymStackArith([PUSH(Int('x')), ASSERT(1), ASSERT(2)])\n",
    "m.run()"
   ]
  },
  {
   "cell_type": "markdown",
   "id": "7846cbac",
   "metadata": {},
   "source": [
    "The constraint solver tells us that no possible concret value of `x` can satisfy both constraints."
   ]
  },
  {
   "cell_type": "markdown",
   "id": "02f40587",
   "metadata": {},
   "source": [
    "### Read only memory\n",
    "\n",
    "Our next example will be adding readonly memory to the machine. In the concrete machine, memory will be represented with a python list that is passed into the machine. The machine will not modify the list. We will add an `MLOAD` instruction to read from the memory."
   ]
  },
  {
   "cell_type": "code",
   "execution_count": 10,
   "id": "39e07392",
   "metadata": {},
   "outputs": [],
   "source": [
    "from dataclasses import dataclass\n",
    "\n",
    "@dataclass\n",
    "class ADD:\n",
    "    pass\n",
    "\n",
    "@dataclass\n",
    "class SUB:\n",
    "    pass\n",
    "\n",
    "@dataclass\n",
    "class PUSH:\n",
    "    n: int\n",
    "        \n",
    "@dataclass\n",
    "class MLOAD:\n",
    "    pass\n",
    "\n",
    "class ReadonlyMem:\n",
    "    def __init__(self, code, memory):\n",
    "        self.pc = 0\n",
    "        self.code = code\n",
    "        self.stack = []\n",
    "        self.memory = memory\n",
    "        \n",
    "    def step(self):\n",
    "        instruction = self.code[self.pc]\n",
    "        self.pc += 1\n",
    "        match instruction:\n",
    "            case ADD():\n",
    "                self.stack.append(self.stack.pop() + self.stack.pop())\n",
    "            case SUB():\n",
    "                self.stack.append(self.stack.pop() - self.stack.pop())\n",
    "            case PUSH(n):\n",
    "                self.stack.append(n)\n",
    "            case MLOAD():\n",
    "                # XXX\n",
    "                self.stack.append(self.memory[self.stack.pop()])\n",
    "            case _:\n",
    "                assert False\n",
    "                \n",
    "    def run(self):\n",
    "        while self.pc < len(self.code):\n",
    "            self.step()\n",
    "        return self.stack[-1]"
   ]
  },
  {
   "cell_type": "markdown",
   "id": "f1d5b2df",
   "metadata": {},
   "source": [
    "In this modified example, we now put the initial operand in memory and load it from memory before performing the addition."
   ]
  },
  {
   "cell_type": "code",
   "execution_count": 11,
   "id": "7c278cba",
   "metadata": {},
   "outputs": [
    {
     "data": {
      "text/plain": [
       "4"
      ]
     },
     "execution_count": 11,
     "metadata": {},
     "output_type": "execute_result"
    }
   ],
   "source": [
    "mem = [0 for x in range(5)]\n",
    "mem[4] = 3\n",
    "# (mem[4] + 2) - 1\n",
    "# -> (3 + 2) - 1 \n",
    "# -> 4\n",
    "m = ReadonlyMem([PUSH(1), PUSH(2), PUSH(4), MLOAD(), ADD(), SUB()], mem)\n",
    "m.run()"
   ]
  },
  {
   "cell_type": "markdown",
   "id": "6c94e85f",
   "metadata": {},
   "source": [
    "Converting stack based arithmetic operations to symbolic was rather straight forward. They are operations, they take operands. In order to pass symbolic operands instead of concrete operands, the stack has to be able to hold symbolic values. \n",
    "\n",
    "Symbolic memory is more complicated because the memory can hold symbolic values, the memory can be indexed at symbolic values, and even the length of memory can be symbolic. This can be hard to conceptualize so we will incrementally add symbolic features to concrete memory. This is a common theme when figuring out how to implement symbolic execution. We start with adding simple symbolic features and incrementally add more symbolic features.\n",
    "\n",
    "The simplest symbolic feature we can add is letting memory store symbolic values. Because the only major change from `ReadonlyMem` is that the stack and memory can hold symbolic values, we add an assertion that the memory index is concrete in `MLOAD`."
   ]
  },
  {
   "cell_type": "code",
   "execution_count": 12,
   "id": "b732b508",
   "metadata": {},
   "outputs": [],
   "source": [
    "from dataclasses import dataclass\n",
    "from z3 import *\n",
    "\n",
    "@dataclass\n",
    "class ADD:\n",
    "    pass\n",
    "\n",
    "@dataclass\n",
    "class SUB:\n",
    "    pass\n",
    "\n",
    "@dataclass\n",
    "class PUSH:\n",
    "    n: int\n",
    "        \n",
    "@dataclass\n",
    "class MLOAD:\n",
    "    pass\n",
    "\n",
    "@dataclass\n",
    "class ASSERT:\n",
    "    n: int\n",
    "\n",
    "class SymReadonlyMem:\n",
    "    def __init__(self, code, memory):\n",
    "        self.pc = 0\n",
    "        self.code = code\n",
    "        self.stack = []\n",
    "        self.memory = memory\n",
    "        self.constraints = Solver()\n",
    "        \n",
    "    def step(self):\n",
    "        instruction = self.code[self.pc]\n",
    "        self.pc += 1\n",
    "        match instruction:\n",
    "            case ADD():\n",
    "                self.stack.append(self.stack.pop() + self.stack.pop())\n",
    "            case SUB():\n",
    "                self.stack.append(self.stack.pop() - self.stack.pop())\n",
    "            case PUSH(n):\n",
    "                self.stack.append(n)\n",
    "            case MLOAD():\n",
    "                # XXX\n",
    "                idx = self.stack.pop()\n",
    "                assert isinstance(idx, int), 'MLOAD: requires concrete index'\n",
    "                self.stack.append(self.memory[idx])\n",
    "            case ASSERT(n):\n",
    "                self.constraints.add(self.stack[-1] == n)                \n",
    "            case _:\n",
    "                assert False\n",
    "                \n",
    "    def run(self):\n",
    "        while self.pc < len(self.code):\n",
    "            self.step()\n",
    "\n",
    "        rv = self.stack[-1]\n",
    "        if self.constraints.check() == sat:\n",
    "            model = self.constraints.model()\n",
    "            eval_rv = rv if isinstance(rv, int) else model.eval(rv)            \n",
    "            return rv, eval_rv, model\n",
    "        else:\n",
    "            return rv, None, None"
   ]
  },
  {
   "cell_type": "markdown",
   "id": "8deedbe1",
   "metadata": {},
   "source": [
    "Let's modify the previous example to now read a symbolic value from memory."
   ]
  },
  {
   "cell_type": "code",
   "execution_count": 13,
   "id": "797646eb",
   "metadata": {},
   "outputs": [
    {
     "data": {
      "text/plain": [
       "(z + 2 - 1, 4, [z = 3])"
      ]
     },
     "execution_count": 13,
     "metadata": {},
     "output_type": "execute_result"
    }
   ],
   "source": [
    "mem = [0 for x in range(5)]\n",
    "mem[4] = Int('z')\n",
    "m = SymReadonlyMem([PUSH(1), PUSH(2), PUSH(4), MLOAD(), ADD(), SUB(), ASSERT(4)], mem)\n",
    "m.run()"
   ]
  },
  {
   "cell_type": "markdown",
   "id": "0548e3eb",
   "metadata": {},
   "source": [
    "We now get runtime errors when we try to read memory at a symbolic index"
   ]
  },
  {
   "cell_type": "code",
   "execution_count": 14,
   "id": "135c837a",
   "metadata": {},
   "outputs": [
    {
     "name": "stdout",
     "output_type": "stream",
     "text": [
      "MLOAD: requires concrete index\n"
     ]
    }
   ],
   "source": [
    "mem = [0 for x in range(5)]\n",
    "m = SymReadonlyMem([PUSH(Int('x')), MLOAD()], mem)\n",
    "try:\n",
    "    m.run()\n",
    "except AssertionError as e:\n",
    "    print(e)"
   ]
  },
  {
   "cell_type": "markdown",
   "id": "14f6cccd",
   "metadata": {},
   "source": [
    "If we want to read from memory at symbolic indices, we can't use a python list to represent memory. We have to use an SMT solver primitive called an uninterpreted function. Re-read [this section](https://theory.stanford.edu/~nikolaj/programmingz3.html#sec-euf--equality-and-uninterpreted-functions) if you need a refresher. The tl;dr is that uninterpreted functions can be used to model constraints on [mathematical functions](https://en.wikipedia.org/wiki/Function_(mathematics)) without worrying about the internals of how the function might be implemented. (TODO this could probably use some work) \n",
    "\n",
    "Because the uninterpreted function has to be defined over its entire domain, and the domain is the entire set of integers, we are saying that this machine has unbounded memory. We'll solve that later."
   ]
  },
  {
   "cell_type": "code",
   "execution_count": 15,
   "id": "e176676f",
   "metadata": {},
   "outputs": [],
   "source": [
    "from dataclasses import dataclass\n",
    "from z3 import *\n",
    "\n",
    "@dataclass\n",
    "class ADD:\n",
    "    pass\n",
    "\n",
    "@dataclass\n",
    "class SUB:\n",
    "    pass\n",
    "\n",
    "@dataclass\n",
    "class PUSH:\n",
    "    n: int\n",
    "        \n",
    "@dataclass\n",
    "class MLOAD:\n",
    "    pass\n",
    "\n",
    "@dataclass\n",
    "class ASSERT:\n",
    "    n: int\n",
    "\n",
    "class SymReadonlyMemSymIndex:\n",
    "    def __init__(self, code):\n",
    "        self.pc = 0\n",
    "        self.code = code\n",
    "        self.stack = []\n",
    "        # XXX\n",
    "        self.memory = Function('memory', IntSort(), IntSort())\n",
    "        self.constraints = Solver()\n",
    "        \n",
    "    def step(self):\n",
    "        instruction = self.code[self.pc]\n",
    "        self.pc += 1\n",
    "        match instruction:\n",
    "            case ADD():\n",
    "                self.stack.append(self.stack.pop() + self.stack.pop())\n",
    "            case SUB():\n",
    "                self.stack.append(self.stack.pop() - self.stack.pop())\n",
    "            case PUSH(n):\n",
    "                self.stack.append(n)\n",
    "            case MLOAD():\n",
    "                # XXX\n",
    "                self.stack.append(self.memory(self.stack.pop()))\n",
    "            case ASSERT(n):\n",
    "                self.constraints.add(self.stack[-1] == n)                \n",
    "            case _:\n",
    "                assert False\n",
    "                \n",
    "    def run(self):\n",
    "        while self.pc < len(self.code):\n",
    "            self.step()\n",
    "\n",
    "        rv = self.stack[-1]\n",
    "        if self.constraints.check() == sat:\n",
    "            model = self.constraints.model()\n",
    "            eval_rv = rv if isinstance(rv, int) else model.eval(rv)            \n",
    "            return rv, eval_rv, model\n",
    "        else:\n",
    "            return rv, None, None"
   ]
  },
  {
   "cell_type": "markdown",
   "id": "95aa735c",
   "metadata": {},
   "source": [
    "How to read output from the constraint solver for an uninterpreted function. For the following example, `f=[1->2, else -> 0]` can be read as `f(1)` returns `2` and for all other values in the input set, `f` returns 0. Note that this implicitly covers the first added constraint `f(0) == 0`. If you don't explicitly see a constraint you added in the output, check if the \"else\" covers it."
   ]
  },
  {
   "cell_type": "code",
   "execution_count": 16,
   "id": "18220797",
   "metadata": {},
   "outputs": [
    {
     "data": {
      "text/html": [
       "[f = [1 &rarr; 2, else &rarr; 0]]"
      ],
      "text/plain": [
       "[f = [1 -> 2, else -> 0]]"
      ]
     },
     "execution_count": 16,
     "metadata": {},
     "output_type": "execute_result"
    }
   ],
   "source": [
    "f = Function('f', IntSort(), IntSort())\n",
    "s = Solver()\n",
    "s.add(f(0) == 0)\n",
    "s.add(f(1) == 2)\n",
    "s.check()\n",
    "s.model()"
   ]
  },
  {
   "cell_type": "markdown",
   "id": "a3a7e7c5",
   "metadata": {},
   "source": [
    "We can execute the same example as before where we read the first operand from memory index 4, but this time we don't have to explicitly set that index in memory to being a symbolic value.\n",
    "\n",
    "Note that the model says `memory = [else -> 3]`. Assume that memory is of size 5, this means memory would look like `[3, 3, 3, 3, 3]`. In the concrete machine, we set memory to  `[0, 0, 0, 0, 3]`. Both are valid initial machine states for the code we executed. The only thing that matters is that `memory[4] == 3`. The constraint solver is not guaranteed to give you back a particular valid machine state, just _a_ valid machine state. (TODO is \"machine state\" the best word to use in this context)"
   ]
  },
  {
   "cell_type": "code",
   "execution_count": 17,
   "id": "c3a8ac3c",
   "metadata": {},
   "outputs": [
    {
     "data": {
      "text/plain": [
       "(memory(4) + 2 - 1, 4, [memory = [else -> 3]])"
      ]
     },
     "execution_count": 17,
     "metadata": {},
     "output_type": "execute_result"
    }
   ],
   "source": [
    "m = SymReadonlyMemSymIndex([\n",
    "    PUSH(1), \n",
    "    PUSH(2), \n",
    "    PUSH(4), MLOAD(), \n",
    "    ADD(), \n",
    "    SUB(), \n",
    "    ASSERT(4)\n",
    "])\n",
    "m.run()"
   ]
  },
  {
   "cell_type": "markdown",
   "id": "77b50267",
   "metadata": {},
   "source": [
    "Let's now read from a symbolic memory index. The model resolves to the same initial memory state but says we read from index 0. Again, this is a _different_ initial machine state, but it is a _valid_ initial machine state. We just have to read the value 3 from a memory index."
   ]
  },
  {
   "cell_type": "code",
   "execution_count": 18,
   "id": "62e2fc99",
   "metadata": {},
   "outputs": [
    {
     "data": {
      "text/plain": [
       "(memory(idx) + 2 - 1, 4, [idx = 0, memory = [else -> 3]])"
      ]
     },
     "execution_count": 18,
     "metadata": {},
     "output_type": "execute_result"
    }
   ],
   "source": [
    "m = SymReadonlyMemSymIndex([\n",
    "    PUSH(1),\n",
    "    PUSH(2),\n",
    "    # XXX\n",
    "    PUSH(Int('idx')), MLOAD(),\n",
    "    ADD(),\n",
    "    SUB(),\n",
    "    ASSERT(4)\n",
    "])\n",
    "m.run()"
   ]
  },
  {
   "cell_type": "markdown",
   "id": "5aa0da32",
   "metadata": {},
   "source": [
    "### Read/Write memory\n",
    "\n",
    "Our next example takes the read only memory and adds writing. We will add an `MSTORE` instruction to write to memory.\n",
    "\n",
    "Modifying the concrete machine to write to memory is straight forward."
   ]
  },
  {
   "cell_type": "code",
   "execution_count": 19,
   "id": "d9c71e8d",
   "metadata": {},
   "outputs": [],
   "source": [
    "from dataclasses import dataclass\n",
    "\n",
    "@dataclass\n",
    "class ADD:\n",
    "    pass\n",
    "\n",
    "@dataclass\n",
    "class SUB:\n",
    "    pass\n",
    "\n",
    "@dataclass\n",
    "class PUSH:\n",
    "    n: int\n",
    "        \n",
    "@dataclass\n",
    "class MLOAD:\n",
    "    pass\n",
    "\n",
    "@dataclass\n",
    "class MSTORE:\n",
    "    pass\n",
    "\n",
    "class RWMem:\n",
    "    def __init__(self, code, memory):\n",
    "        self.pc = 0\n",
    "        self.code = code\n",
    "        self.stack = []\n",
    "        self.memory = memory\n",
    "        \n",
    "    def step(self):\n",
    "        instruction = self.code[self.pc]\n",
    "        self.pc += 1\n",
    "        match instruction:\n",
    "            case ADD():\n",
    "                self.stack.append(self.stack.pop() + self.stack.pop())\n",
    "            case SUB():\n",
    "                self.stack.append(self.stack.pop() - self.stack.pop())\n",
    "            case PUSH(n):\n",
    "                self.stack.append(n)\n",
    "            case MLOAD():\n",
    "                self.stack.append(self.memory[self.stack.pop()])\n",
    "            case MSTORE():\n",
    "                # XXX\n",
    "                idx = self.stack.pop()\n",
    "                val = self.stack.pop()\n",
    "                self.memory[idx] = val\n",
    "            case _:\n",
    "                assert False\n",
    "                \n",
    "    def run(self):\n",
    "        while self.pc < len(self.code):\n",
    "            self.step()\n",
    "        return self.stack[-1]"
   ]
  },
  {
   "cell_type": "markdown",
   "id": "4a79b149",
   "metadata": {},
   "source": [
    "We can now write the first operand to memory and then read it back to the stack before operating on it."
   ]
  },
  {
   "cell_type": "code",
   "execution_count": 20,
   "id": "ff23b10c",
   "metadata": {},
   "outputs": [
    {
     "data": {
      "text/plain": [
       "4"
      ]
     },
     "execution_count": 20,
     "metadata": {},
     "output_type": "execute_result"
    }
   ],
   "source": [
    "mem = [0 for x in range(5)]\n",
    "\n",
    "m = RWMem([\n",
    "    PUSH(1),\n",
    "    PUSH(2),\n",
    "    # XXX Write operand to memory\n",
    "    PUSH(3), PUSH(0), MSTORE(),\n",
    "    # XXX Read operand from memory\n",
    "    PUSH(0), MLOAD(),\n",
    "    ADD(), \n",
    "    SUB(), \n",
    "], mem)\n",
    "\n",
    "m.run()"
   ]
  },
  {
   "cell_type": "markdown",
   "id": "75f3ba93",
   "metadata": {},
   "source": [
    "To make memory writable, we need to use a different SMT solver primitive -- [arrays](https://theory.stanford.edu/~nikolaj/programmingz3.html#sec-arrays). Just like uninterpreted functions, arrays can be used to model mathematical functions, but arrays allow the function to be \"updatable\". The \"update\" does not modify the original function. It creates a new and updated function that has one input output pair changed. In our machine, on every write instruction, we replace the memory array with the new updated memory array. (TODO -- \"I think update sounds like an in place change. I prefer to talk about it like an infinite map with the pure function store that takes an array and returns the modified array\")"
   ]
  },
  {
   "cell_type": "code",
   "execution_count": 21,
   "id": "96ea09d9",
   "metadata": {},
   "outputs": [],
   "source": [
    "from dataclasses import dataclass\n",
    "from z3 import *\n",
    "\n",
    "@dataclass\n",
    "class ADD:\n",
    "    pass\n",
    "\n",
    "@dataclass\n",
    "class SUB:\n",
    "    pass\n",
    "\n",
    "@dataclass\n",
    "class PUSH:\n",
    "    n: int\n",
    "        \n",
    "@dataclass\n",
    "class MLOAD:\n",
    "    pass\n",
    "\n",
    "@dataclass\n",
    "class MSTORE:\n",
    "    pass\n",
    "\n",
    "@dataclass\n",
    "class ASSERT:\n",
    "    n: int\n",
    "\n",
    "class SymRWMem:\n",
    "    def __init__(self, code):\n",
    "        self.pc = 0\n",
    "        self.code = code\n",
    "        self.stack = []\n",
    "        # XXX\n",
    "        self.memory = Array('memory', IntSort(), IntSort())\n",
    "        self.constraints = Solver()\n",
    "        \n",
    "    def step(self):\n",
    "        instruction = self.code[self.pc]\n",
    "        self.pc += 1\n",
    "        match instruction:\n",
    "            case ADD():\n",
    "                self.stack.append(self.stack.pop() + self.stack.pop())\n",
    "            case SUB():\n",
    "                self.stack.append(self.stack.pop() - self.stack.pop())\n",
    "            case PUSH(n):\n",
    "                self.stack.append(n)\n",
    "            case MLOAD():\n",
    "                # XXX\n",
    "                self.stack.append(self.memory[self.stack.pop()])\n",
    "            case MSTORE():\n",
    "                # XXX\n",
    "                idx = self.stack.pop()\n",
    "                val = self.stack.pop()\n",
    "                self.memory = Store(self.memory, idx, val)\n",
    "            case ASSERT(n):\n",
    "                self.constraints.add(self.stack[-1] == n)                \n",
    "            case _:\n",
    "                assert False\n",
    "                \n",
    "    def run(self):\n",
    "        while self.pc < len(self.code):\n",
    "            self.step()\n",
    "\n",
    "        rv = self.stack[-1]\n",
    "        if self.constraints.check() == sat:\n",
    "            model = self.constraints.model()\n",
    "            eval_rv = rv if isinstance(rv, int) else model.eval(rv)            \n",
    "            return rv, eval_rv, model\n",
    "        else:\n",
    "            return rv, None, None"
   ]
  },
  {
   "cell_type": "markdown",
   "id": "34487ea7",
   "metadata": {},
   "source": [
    "We can now write a symbolic value to a concrete index for the first operand."
   ]
  },
  {
   "cell_type": "code",
   "execution_count": 22,
   "id": "64d5177a",
   "metadata": {},
   "outputs": [
    {
     "data": {
      "text/plain": [
       "(Store(memory, 0, x)[0] + 2 - 1, 4, [x = 3])"
      ]
     },
     "execution_count": 22,
     "metadata": {},
     "output_type": "execute_result"
    }
   ],
   "source": [
    "m = SymRWMem([\n",
    "    PUSH(1),\n",
    "    PUSH(2),\n",
    "    PUSH(Int('x')), PUSH(0), MSTORE(),\n",
    "    PUSH(0), MLOAD(),\n",
    "    ADD(), \n",
    "    SUB(), \n",
    "    ASSERT(4)\n",
    "])\n",
    "m.run()"
   ]
  },
  {
   "cell_type": "markdown",
   "id": "50d25a1e",
   "metadata": {},
   "source": [
    "We can even write a symbolic value to a symbolic index for the first operand. Note that the model solves for the symbolic value but does not have a value for the index. The model does not need to determine a concrete value for the index because for the model to be satisfiable, the operand just has to written to and read from the same index. The more formal term for the model \"not having a value\" is \"does not have an interpretation\"."
   ]
  },
  {
   "cell_type": "code",
   "execution_count": 23,
   "id": "2cfda2ea",
   "metadata": {},
   "outputs": [
    {
     "data": {
      "text/plain": [
       "(Store(memory, idx, val)[idx] + 2 - 1, 4, [val = 3])"
      ]
     },
     "execution_count": 23,
     "metadata": {},
     "output_type": "execute_result"
    }
   ],
   "source": [
    "idx = Int('idx')\n",
    "\n",
    "m = SymRWMem([\n",
    "    PUSH(1),\n",
    "    PUSH(2),\n",
    "    PUSH(Int('val')), PUSH(idx), MSTORE(),\n",
    "    PUSH(idx), MLOAD(),\n",
    "    ADD(), \n",
    "    SUB(),\n",
    "    ASSERT(4)\n",
    "])\n",
    "\n",
    "m.run()"
   ]
  },
  {
   "cell_type": "markdown",
   "id": "776b7d98",
   "metadata": {},
   "source": [
    "If we need a concrete value for the index, we can ask the model gives us a \"default interpretation\" for the expression by setting the `model_completion` flag to true."
   ]
  },
  {
   "cell_type": "code",
   "execution_count": 24,
   "id": "5590e2d4",
   "metadata": {},
   "outputs": [
    {
     "data": {
      "text/html": [
       "0"
      ],
      "text/plain": [
       "0"
      ]
     },
     "execution_count": 24,
     "metadata": {},
     "output_type": "execute_result"
    }
   ],
   "source": [
    "idx = Int('idx')\n",
    "\n",
    "m = SymRWMem([\n",
    "    PUSH(1),\n",
    "    PUSH(2),\n",
    "    PUSH(Int('val')), PUSH(idx), MSTORE(),\n",
    "    PUSH(idx), MLOAD(),\n",
    "    ADD(), \n",
    "    SUB(),\n",
    "    ASSERT(4)\n",
    "])\n",
    "\n",
    "(_, _, model) = m.run()\n",
    "\n",
    "model.eval(idx, model_completion=True)"
   ]
  },
  {
   "cell_type": "markdown",
   "id": "b8a48319",
   "metadata": {},
   "source": [
    "### Conditionals\n",
    "\n",
    "Our next machine adds conditionals through the `ISZERO` instruction. `ISZERO`'s concrete implementation is straight forward."
   ]
  },
  {
   "cell_type": "code",
   "execution_count": 25,
   "id": "6a3bfcdf",
   "metadata": {},
   "outputs": [],
   "source": [
    "from dataclasses import dataclass\n",
    "\n",
    "@dataclass\n",
    "class ADD:\n",
    "    pass\n",
    "\n",
    "@dataclass\n",
    "class SUB:\n",
    "    pass\n",
    "\n",
    "@dataclass\n",
    "class PUSH:\n",
    "    n: int\n",
    "        \n",
    "@dataclass\n",
    "class MLOAD:\n",
    "    pass\n",
    "\n",
    "@dataclass\n",
    "class MSTORE:\n",
    "    pass\n",
    "\n",
    "@dataclass\n",
    "class ISZERO:\n",
    "    pass\n",
    "\n",
    "class Cond:\n",
    "    def __init__(self, code, memory=[]):\n",
    "        self.pc = 0\n",
    "        self.code = code\n",
    "        self.stack = []\n",
    "        self.memory = memory\n",
    "        \n",
    "    def step(self):\n",
    "        instruction = self.code[self.pc]\n",
    "        self.pc += 1\n",
    "        match instruction:\n",
    "            case ADD():\n",
    "                self.stack.append(self.stack.pop() + self.stack.pop())\n",
    "            case SUB():\n",
    "                self.stack.append(self.stack.pop() - self.stack.pop())\n",
    "            case PUSH(n):\n",
    "                self.stack.append(n)\n",
    "            case MLOAD():\n",
    "                self.stack.append(self.memory[self.stack.pop()])\n",
    "            case MSTORE():\n",
    "                idx = self.stack.pop()\n",
    "                val = self.stack.pop()\n",
    "                self.memory[idx] = val\n",
    "            case ISZERO():\n",
    "                val = self.stack.pop()\n",
    "                self.stack.append(1 if val == 0 else 0)\n",
    "            case _:\n",
    "                assert False\n",
    "                \n",
    "    def run(self):\n",
    "        while self.pc < len(self.code):\n",
    "            self.step()\n",
    "        return self.stack[-1]"
   ]
  },
  {
   "cell_type": "markdown",
   "id": "34d2d6c6",
   "metadata": {},
   "source": [
    "Let's modify our original example to check the expected answer in the machine."
   ]
  },
  {
   "cell_type": "code",
   "execution_count": 26,
   "id": "bce760a2",
   "metadata": {},
   "outputs": [
    {
     "data": {
      "text/plain": [
       "1"
      ]
     },
     "execution_count": 26,
     "metadata": {},
     "output_type": "execute_result"
    }
   ],
   "source": [
    "# ((3 + 2) - 1)) - 4 == 0\n",
    "m = Cond([\n",
    "    PUSH(1), \n",
    "    PUSH(2), \n",
    "    PUSH(3), \n",
    "    ADD(), \n",
    "    SUB(),\n",
    "    # XXX We expect our solution to be 4, try to zero out the solution\n",
    "    PUSH(4),\n",
    "    SUB(),\n",
    "    ISZERO()\n",
    "])\n",
    "m.run()"
   ]
  },
  {
   "cell_type": "markdown",
   "id": "52a56174",
   "metadata": {},
   "source": [
    "There is an \"if-then-else\" SMT solver primitive. In Z3, this is the `If` function. Note, the Z3 `If` function represents the smtlib `ite` function (we'll get to smtlib later). The `If` function can be used to build a compound symbolic value. The compound symbolic value can be thought of as implicitly carrying a constraint."
   ]
  },
  {
   "cell_type": "code",
   "execution_count": 27,
   "id": "2ea1e52d",
   "metadata": {},
   "outputs": [],
   "source": [
    "from dataclasses import dataclass\n",
    "from z3 import *\n",
    "\n",
    "@dataclass\n",
    "class ADD:\n",
    "    pass\n",
    "\n",
    "@dataclass\n",
    "class SUB:\n",
    "    pass\n",
    "\n",
    "@dataclass\n",
    "class PUSH:\n",
    "    n: int\n",
    "        \n",
    "@dataclass\n",
    "class MLOAD:\n",
    "    pass\n",
    "\n",
    "@dataclass\n",
    "class MSTORE:\n",
    "    pass\n",
    "\n",
    "@dataclass\n",
    "class ISZERO:\n",
    "    pass\n",
    "\n",
    "@dataclass\n",
    "class ASSERT:\n",
    "    n: int\n",
    "\n",
    "class SymCond:\n",
    "    def __init__(self, code):\n",
    "        self.pc = 0\n",
    "        self.code = code\n",
    "        self.stack = []\n",
    "        self.memory = Array('memory', IntSort(), IntSort())\n",
    "        self.constraints = Solver()\n",
    "        \n",
    "    def step(self):\n",
    "        instruction = self.code[self.pc]\n",
    "        self.pc += 1\n",
    "        match instruction:\n",
    "            case ADD():\n",
    "                self.stack.append(self.stack.pop() + self.stack.pop())\n",
    "            case SUB():\n",
    "                self.stack.append(self.stack.pop() - self.stack.pop())\n",
    "            case PUSH(n):\n",
    "                self.stack.append(n)\n",
    "            case MLOAD():\n",
    "                self.stack.append(self.memory[self.stack.pop()])\n",
    "            case MSTORE():\n",
    "                idx = self.stack.pop()\n",
    "                val = self.stack.pop()\n",
    "                self.memory = Store(self.memory, idx, val)\n",
    "            case ISZERO():\n",
    "                # XXX\n",
    "                val = self.stack.pop()\n",
    "                self.stack.append(If(val == 0, 1, 0))\n",
    "            case ASSERT(n):\n",
    "                self.constraints.add(self.stack[-1] == n)                \n",
    "            case _:\n",
    "                assert False\n",
    "                \n",
    "    def run(self):\n",
    "        while self.pc < len(self.code):\n",
    "            self.step()\n",
    "\n",
    "        rv = self.stack[-1]\n",
    "        if self.constraints.check() == sat:\n",
    "            model = self.constraints.model()\n",
    "            eval_rv = rv if isinstance(rv, int) else model.eval(rv)            \n",
    "            return rv, eval_rv, model\n",
    "        else:\n",
    "            return rv, None, None"
   ]
  },
  {
   "cell_type": "markdown",
   "id": "86df2448",
   "metadata": {},
   "source": [
    "We can now substitute a symbolic value into the operand and later assert the result of the `ISZERO` check. This later assertion can be thought of as setting that the implicit constraint in the `If` expression does hold."
   ]
  },
  {
   "cell_type": "code",
   "execution_count": 28,
   "id": "2375cf7d",
   "metadata": {},
   "outputs": [
    {
     "data": {
      "text/plain": [
       "(If(4 - (x + 2 - 1) == 0, 1, 0), 1, [x = 3])"
      ]
     },
     "execution_count": 28,
     "metadata": {},
     "output_type": "execute_result"
    }
   ],
   "source": [
    "m = SymCond([\n",
    "    PUSH(1), \n",
    "    PUSH(2), \n",
    "    PUSH(Int('x')), \n",
    "    ADD(), \n",
    "    SUB(),\n",
    "    PUSH(4),\n",
    "    SUB(),\n",
    "    ISZERO(),\n",
    "    # XXX\n",
    "    ASSERT(1)\n",
    "])\n",
    "m.run()"
   ]
  },
  {
   "cell_type": "markdown",
   "id": "ede92d1d",
   "metadata": {},
   "source": [
    "We can instead assert that the constraint does not hold. Remember there are many valid concrete values `x` could resolve to in this case, but the constraint solver will just pick one for us."
   ]
  },
  {
   "cell_type": "code",
   "execution_count": 29,
   "id": "9d6def76",
   "metadata": {},
   "outputs": [
    {
     "data": {
      "text/plain": [
       "(If(4 - (x + 2 - 1) == 0, 1, 0), 0, [x = 4])"
      ]
     },
     "execution_count": 29,
     "metadata": {},
     "output_type": "execute_result"
    }
   ],
   "source": [
    "m = SymCond([\n",
    "    PUSH(1), \n",
    "    PUSH(2), \n",
    "    PUSH(Int('x')), \n",
    "    ADD(), \n",
    "    SUB(),\n",
    "    PUSH(4),\n",
    "    SUB(),\n",
    "    ISZERO(),\n",
    "    # XXX\n",
    "    ASSERT(0)\n",
    "])\n",
    "m.run()"
   ]
  },
  {
   "cell_type": "markdown",
   "id": "6ccbef39",
   "metadata": {},
   "source": [
    "### Conditional Jumps"
   ]
  },
  {
   "cell_type": "markdown",
   "id": "5a12b2bc",
   "metadata": {},
   "source": [
    "### A more realistic model of memory using Bit Vectors"
   ]
  }
 ],
 "metadata": {
  "kernelspec": {
   "display_name": "Python 3 (ipykernel)",
   "language": "python",
   "name": "python3"
  },
  "language_info": {
   "codemirror_mode": {
    "name": "ipython",
    "version": 3
   },
   "file_extension": ".py",
   "mimetype": "text/x-python",
   "name": "python",
   "nbconvert_exporter": "python",
   "pygments_lexer": "ipython3",
   "version": "3.10.2"
  }
 },
 "nbformat": 4,
 "nbformat_minor": 5
}
