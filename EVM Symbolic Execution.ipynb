{
 "cells": [
  {
   "cell_type": "markdown",
   "id": "66e7627a",
   "metadata": {},
   "source": [
    "# EVM Symbolic Execution\n",
    "\n",
    "Our goal is to add symbolic execution to a rust based implementation of the EVM.\n",
    "\n",
    "## Symbolic execution in the large\n",
    "Symbolic execution is a general (not EVM specific) program analysis technique.\n",
    "- [Symbolic Execution Introduction](https://en.wikipedia.org/wiki/Symbolic_execution) read the intro paragraph and the example.\n",
    "- [Symbolic Execution Lecture](https://www.youtube.com/watch?v=yRVZPvHYHzw) watch the whole thing. You should follow most all of it before you continue.\n",
    "\n",
    "Symbolic execution also has applications to the EVM. It can be used to find conditions that lead to assertion violations as well as other use cases. \n",
    "- [HEVM Symbolic Execution](https://fv.ethereum.org/2020/07/28/symbolic-hevm-release/) read the full post but do not attempt to understand everything.\n",
    "- [Dapptools testing integration](https://youtu.be/N9pJ9JieX10?t=990) Watch the linked timestamp to see how dapptools uses hevm to symbolically search for assertion failures\n",
    "\n",
    "All symbolic execution implementations rely on an SMT Solver. You should have a basic understanding of the SMT Solver's role from the Symbolic Execution Lecture. We will be using Z3 for our examples because it has a nice python library. For our actual implementation we will be as solver agnostic as possible.\n",
    "- [Z3 tutorial](https://theory.stanford.edu/~nikolaj/programmingz3.html) Read all of section 2 and sections 3.1-3.4. We will not be too deep in the weeds of the solver so focus on intuition instead of formal understanding. Feel free to play with some of the code samples.\n",
    "\n",
    "## Vocabulary\n",
    "- Concrete value - A value that is known at runtime. When concrete values are combined with other concrete values, the result is also concrete.\n",
    "- Symbolic value - A value that is not known at runtime. Symbolic values still have known and fixed types. When symbolic values are combined with both concrete and symbolic values, the result is also symbolic.\n",
    "- Memory model - How memory is represented so that it can hold symbolic values. \"Memory\" in the general sense of all readable and writable storage locations. I.e. for the EVM, the memory model refers to memory, storage, calldata, and code.\n",
    "- Concrete instruction - An instruction that only operates on concrete values.\n",
    "- Symbolic Instruction - An instruction that can operates on symbolic values, concrete values, and combinations of the two.\n",
    "- (Path) Constraint set - The set of constraints collected while executing the program. They constrain the set of possible concrete values that the symbolic values can represent.\n",
    "- Machine state - Abstract term referring to the current state of (a single) execution of the program. This includes the state of the memory mode, the constraint set, program counter, etc...\n",
    "- Interpreter - The function that takes in one machine state, executes an instruction, and returns multiple machine states. If the returning multiple machine states part confuses you, that's ok, assume it returns a single updated machine state for now.\n",
    "- Runtime - Abstract term referring to the code orchestrating the memory model, interpreter, and machine state to compute.\n",
    "- Solver - The SMT solver that is used to check if constraints can be satisfied.\n",
    "- Satisfied - There exists a possible solution to the set of constraints given. A solution can be used to replace symbolic values with concrete values that would lead to the current machine state.\n",
    "- Unsatisfied - The solver could not find a solution to the set of constraints given. An unsatisfied set of constraints is used to assume that the current machine state cannot exist and it should not be explored further. Note that this doesn't mean that one doesn't exist and can be a false negative.\n",
    "\n",
    "\n",
    "## Symbolic execution in the small\n",
    "We are going to walk through some examples of implementing symbolic execution against an EVM-like assembly language. \n",
    "\n",
    "All symbolic execution implementations follow a common pattern of taking an existing program runtime that executes over concrete values and modifying it such that...\n",
    "- All concrete readable and writable values are replaced with a memory model that handles symbolic values.\n",
    "- The interpreter executes symbolic instructions\n",
    "- The machine state tracks path constraints\n",
    "- The runtime can pass a set of path constraints to a solver to check for satisfiability\n",
    "- The Runtime can handle multiple concurrent machine states (ok if you don't understand why right now)\n",
    "\n",
    "We are going to work our way up from simpler machines to more complex machines adding incremental symbolic execution functionality as needed.\n",
    "\n",
    "One important thing to note is that there is not one way to implement symbolic execution and symbolic execution is not all or nothing. You can force parts of the runtime to only execute over concrete values and in fact frequently we do for performance reasons.\n",
    "\n",
    "Note that all python code runs on Python 3.10 and we use the library [z3-solver](https://pypi.org/project/z3-solver/) to interact with Z3."
   ]
  },
  {
   "cell_type": "markdown",
   "id": "7b665171",
   "metadata": {},
   "source": [
    "### Arithmetic operations on stack values\n",
    "Our first example will be assuming that our language has ADD and SUB instructions that operate on the stack. For simplicity sake, we will assume that we can store actual integers on the stack and not fixed width bit representations of integers. We consider the \"result\" of the program to be the item on the top of the stack when the program ends. Take this simple implementation."
   ]
  },
  {
   "cell_type": "code",
   "execution_count": 27,
   "id": "bc4a0405",
   "metadata": {},
   "outputs": [],
   "source": [
    "from dataclasses import dataclass\n",
    "\n",
    "@dataclass\n",
    "class ADD:\n",
    "    pass\n",
    "\n",
    "@dataclass\n",
    "class SUB:\n",
    "    pass\n",
    "\n",
    "@dataclass\n",
    "class PUSH:\n",
    "    n: int\n",
    "\n",
    "class StackArith:\n",
    "    def __init__(self, code):\n",
    "        self.pc = 0\n",
    "        self.code = code\n",
    "        self.stack = []\n",
    "        \n",
    "    def step(self):\n",
    "        instruction = self.code[self.pc]\n",
    "        self.pc += 1\n",
    "        match instruction:\n",
    "            case ADD():\n",
    "                self.stack.append(self.stack.pop() + self.stack.pop())\n",
    "            case SUB():\n",
    "                self.stack.append(self.stack.pop() - self.stack.pop())\n",
    "            case PUSH(n):\n",
    "                self.stack.append(n)\n",
    "            case _:\n",
    "                assert False\n",
    "                \n",
    "    def run(self):\n",
    "        while self.pc < len(self.code):\n",
    "            self.step()\n",
    "        return self.stack[-1]"
   ]
  },
  {
   "cell_type": "markdown",
   "id": "d4ffa35e",
   "metadata": {},
   "source": [
    "We can compute things!"
   ]
  },
  {
   "cell_type": "code",
   "execution_count": 24,
   "id": "14d84cd6",
   "metadata": {},
   "outputs": [
    {
     "data": {
      "text/plain": [
       "4"
      ]
     },
     "execution_count": 24,
     "metadata": {},
     "output_type": "execute_result"
    }
   ],
   "source": [
    "# (3 + 2) - 1 -> 4\n",
    "m = StackArith([PUSH(1), PUSH(2), PUSH(3), ADD(), SUB()])\n",
    "m.run()"
   ]
  },
  {
   "cell_type": "markdown",
   "id": "75bec4aa",
   "metadata": {},
   "source": [
    "Now what happens when we put symbolic values on the stack. Note that we don't have to change the implementation. This is because the z3 objects implement their own `+` method."
   ]
  },
  {
   "cell_type": "code",
   "execution_count": 29,
   "id": "1587bf1c",
   "metadata": {},
   "outputs": [
    {
     "data": {
      "text/html": [
       "z + y - x"
      ],
      "text/plain": [
       "z + y - x"
      ]
     },
     "execution_count": 29,
     "metadata": {},
     "output_type": "execute_result"
    }
   ],
   "source": [
    "from z3 import *\n",
    "m = StackArith([PUSH(Int('x')), PUSH(Int('y')), PUSH(Int('z')), ADD(), SUB()])\n",
    "m.run()"
   ]
  },
  {
   "cell_type": "markdown",
   "id": "ce7da14b",
   "metadata": {},
   "source": [
    "The result of the computation is also symbolic. Note that the z3 library prints a nice string representation of the compound symbolic value. The actual type of the python value is from the Z3 package and the sort is still int. \"Sorts\"  are the Z3 equivalent of type (is this actually true?). Really \"sort\" comes from smtlib and not Z3 but that's getting ahead of ourselves."
   ]
  },
  {
   "cell_type": "code",
   "execution_count": 32,
   "id": "34186ffa",
   "metadata": {},
   "outputs": [
    {
     "name": "stdout",
     "output_type": "stream",
     "text": [
      "<class 'z3.z3.ArithRef'>\n",
      "Int\n"
     ]
    }
   ],
   "source": [
    "m = StackArith([PUSH(Int('x')), PUSH(Int('y')), PUSH(Int('z')), ADD(), SUB()])\n",
    "res = m.run()\n",
    "print(res.__class__)\n",
    "print(res.sort())"
   ]
  },
  {
   "cell_type": "markdown",
   "id": "37797e11",
   "metadata": {},
   "source": [
    "We can also include concrete values on the stack, so the returned value contains both symbolic and concrete values."
   ]
  },
  {
   "cell_type": "code",
   "execution_count": 33,
   "id": "2e9d29c2",
   "metadata": {},
   "outputs": [
    {
     "data": {
      "text/html": [
       "3 + y - x"
      ],
      "text/plain": [
       "3 + y - x"
      ]
     },
     "execution_count": 33,
     "metadata": {},
     "output_type": "execute_result"
    }
   ],
   "source": [
    "m = StackArith([PUSH(Int('x')), PUSH(Int('y')), PUSH(3), ADD(), SUB()])\n",
    "m.run()"
   ]
  },
  {
   "cell_type": "markdown",
   "id": "f914b884",
   "metadata": {},
   "source": [
    "Just computing on symbolic values can be helpful in certain circumstances, but we want to be able to ask the question \"what inputs do I have to pass this program for it to give this output\". Let's add an additional instruction `ASSERT(n)` that adds the constraint that the top item on the stack is equal to its argument."
   ]
  },
  {
   "cell_type": "code",
   "execution_count": 64,
   "id": "be0929dd",
   "metadata": {},
   "outputs": [],
   "source": [
    "from dataclasses import dataclass\n",
    "from z3 import *\n",
    "\n",
    "@dataclass\n",
    "class ADD:\n",
    "    pass\n",
    "\n",
    "@dataclass\n",
    "class SUB:\n",
    "    pass\n",
    "\n",
    "@dataclass\n",
    "class PUSH:\n",
    "    n: int\n",
    "        \n",
    "@dataclass\n",
    "class ASSERT:\n",
    "    n: int\n",
    "\n",
    "class SymStackArith:\n",
    "    def __init__(self, code):\n",
    "        self.pc = 0\n",
    "        self.code = code\n",
    "        self.stack = []\n",
    "        # XXX We add the set of constraints to the machine state\n",
    "        # Solver is the object from the z3 package that can be used\n",
    "        # to hold constraints\n",
    "        self.constraints = Solver()\n",
    "        \n",
    "    def step(self):\n",
    "        instruction = self.code[self.pc]\n",
    "        self.pc += 1\n",
    "        match instruction:\n",
    "            case ADD():\n",
    "                self.stack.append(self.stack.pop() + self.stack.pop())\n",
    "            case SUB():\n",
    "                self.stack.append(self.stack.pop() - self.stack.pop())\n",
    "            case PUSH(n):\n",
    "                self.stack.append(n)\n",
    "            case ASSERT(n):\n",
    "                # XXX We add the constraint to the machine state.\n",
    "                self.constraints.add(self.stack[-1] == n)\n",
    "            case _:\n",
    "                assert False\n",
    "            \n",
    "    # Returns: (The symbolic value, the concrete value (if satisfiable), the model (if satisfiable))\n",
    "    def run(self):\n",
    "        while self.pc < len(self.code):\n",
    "            self.step()\n",
    "            \n",
    "        # XXX We check if the set of constraints is satisfiable.\n",
    "        rv = self.stack[-1]\n",
    "        ans = Int('ANS')\n",
    "        self.constraints.add(ans == rv)\n",
    "        if self.constraints.check() == sat:\n",
    "            model = self.constraints.model()\n",
    "            return rv, model[ans], model\n",
    "        else:\n",
    "            # The set of constraints is not satisfiable. There is no\n",
    "            # model or concrete value to return\n",
    "            return rv, None, None"
   ]
  },
  {
   "cell_type": "code",
   "execution_count": 65,
   "id": "0411e7e3",
   "metadata": {},
   "outputs": [
    {
     "data": {
      "text/plain": [
       "(z + y - x, 5, [ANS = 5, y = 0, x = 0, z = 5])"
      ]
     },
     "execution_count": 65,
     "metadata": {},
     "output_type": "execute_result"
    }
   ],
   "source": [
    "m = SymStackArith([PUSH(Int('x')), PUSH(Int('y')), PUSH(Int('z')), ADD(), SUB(), ASSERT(5)])\n",
    "m.run()"
   ]
  },
  {
   "cell_type": "markdown",
   "id": "8e1d3005",
   "metadata": {},
   "source": [
    "The answer here is not terribly interesting, but it tells us that replacing x, y, and z with 0, 0, and 5 respectively will result in the final value on the stack being equal to 5. We can confirm this by re-running the same machine with the concrete values."
   ]
  },
  {
   "cell_type": "code",
   "execution_count": 66,
   "id": "232706dc",
   "metadata": {},
   "outputs": [
    {
     "data": {
      "text/plain": [
       "(5, 5, [ANS = 5])"
      ]
     },
     "execution_count": 66,
     "metadata": {},
     "output_type": "execute_result"
    }
   ],
   "source": [
    "m = SymStackArith([PUSH(0), PUSH(0), PUSH(5), ADD(), SUB()])\n",
    "m.run()"
   ]
  },
  {
   "cell_type": "markdown",
   "id": "e9ca100d",
   "metadata": {},
   "source": [
    "What happens when the solution is not satisfiable? Let's try a basic example where we assert one symbolic value to be equal to two different concrete values"
   ]
  },
  {
   "cell_type": "code",
   "execution_count": 67,
   "id": "4c057b0a",
   "metadata": {},
   "outputs": [
    {
     "data": {
      "text/plain": [
       "(x, None, None)"
      ]
     },
     "execution_count": 67,
     "metadata": {},
     "output_type": "execute_result"
    }
   ],
   "source": [
    "m = SymStackArith([PUSH(Int('x')), ASSERT(1), ASSERT(2)])\n",
    "m.run()"
   ]
  },
  {
   "cell_type": "markdown",
   "id": "7846cbac",
   "metadata": {},
   "source": [
    "The constraint solver tells us that no possible concret value of `x` can satisfy both constraints."
   ]
  },
  {
   "cell_type": "markdown",
   "id": "02f40587",
   "metadata": {},
   "source": [
    "### Read only memory\n"
   ]
  },
  {
   "cell_type": "code",
   "execution_count": 6,
   "id": "39e07392",
   "metadata": {},
   "outputs": [],
   "source": [
    "from dataclasses import dataclass\n",
    "\n",
    "@dataclass\n",
    "class ADD:\n",
    "    pass\n",
    "\n",
    "@dataclass\n",
    "class SUB:\n",
    "    pass\n",
    "\n",
    "@dataclass\n",
    "class PUSH:\n",
    "    n: int\n",
    "        \n",
    "@dataclass\n",
    "class MLOAD:\n",
    "    pass\n",
    "\n",
    "class ReadonlyMem:\n",
    "    def __init__(self, code, memory):\n",
    "        self.pc = 0\n",
    "        self.code = code\n",
    "        self.stack = []\n",
    "        self.memory = memory\n",
    "        \n",
    "    def step(self):\n",
    "        instruction = self.code[self.pc]\n",
    "        self.pc += 1\n",
    "        match instruction:\n",
    "            case ADD():\n",
    "                self.stack.append(self.stack.pop() + self.stack.pop())\n",
    "            case SUB():\n",
    "                self.stack.append(self.stack.pop() - self.stack.pop())\n",
    "            case PUSH(n):\n",
    "                self.stack.append(n)\n",
    "            case MLOAD():\n",
    "                self.stack.append(self.memory[self.stack.pop()])\n",
    "            case _:\n",
    "                assert False\n",
    "                \n",
    "    def run(self):\n",
    "        while self.pc < len(self.code):\n",
    "            self.step()\n",
    "        return self.stack[-1]"
   ]
  },
  {
   "cell_type": "code",
   "execution_count": 7,
   "id": "7c278cba",
   "metadata": {},
   "outputs": [
    {
     "data": {
      "text/plain": [
       "4"
      ]
     },
     "execution_count": 7,
     "metadata": {},
     "output_type": "execute_result"
    }
   ],
   "source": [
    "mem = [0 for x in range(5)]\n",
    "mem[4] = 3\n",
    "# (mem[4] + 2) - 1\n",
    "# -> (3 + 2) - 1 \n",
    "# -> 4\n",
    "m = ReadonlyMem([PUSH(1), PUSH(2), PUSH(4), MLOAD(), ADD(), SUB()], mem)\n",
    "m.run()"
   ]
  },
  {
   "cell_type": "code",
   "execution_count": 11,
   "id": "b732b508",
   "metadata": {},
   "outputs": [],
   "source": [
    "from dataclasses import dataclass\n",
    "from z3 import *\n",
    "\n",
    "@dataclass\n",
    "class ADD:\n",
    "    pass\n",
    "\n",
    "@dataclass\n",
    "class SUB:\n",
    "    pass\n",
    "\n",
    "@dataclass\n",
    "class PUSH:\n",
    "    n: int\n",
    "        \n",
    "@dataclass\n",
    "class MLOAD:\n",
    "    pass\n",
    "\n",
    "@dataclass\n",
    "class ASSERT:\n",
    "    n: int\n",
    "\n",
    "class SymReadonlyMem:\n",
    "    def __init__(self, code, memory):\n",
    "        self.pc = 0\n",
    "        self.code = code\n",
    "        self.stack = []\n",
    "        self.memory = memory\n",
    "        # XXX\n",
    "        self.constraints = Solver()\n",
    "        \n",
    "    def step(self):\n",
    "        instruction = self.code[self.pc]\n",
    "        self.pc += 1\n",
    "        match instruction:\n",
    "            case ADD():\n",
    "                self.stack.append(self.stack.pop() + self.stack.pop())\n",
    "            case SUB():\n",
    "                self.stack.append(self.stack.pop() - self.stack.pop())\n",
    "            case PUSH(n):\n",
    "                self.stack.append(n)\n",
    "            case MLOAD():\n",
    "                # XXX\n",
    "                idx = self.stack.pop()\n",
    "                assert isinstance(idx, int), 'MLOAD: requires concrete index'\n",
    "                self.stack.append(self.memory[idx])\n",
    "            case ASSERT(n):\n",
    "                # XXX\n",
    "                self.constraints.add(self.stack[-1] == n)                \n",
    "            case _:\n",
    "                assert False\n",
    "                \n",
    "    def run(self):\n",
    "        while self.pc < len(self.code):\n",
    "            self.step()\n",
    "\n",
    "        # XXX\n",
    "        rv = self.stack[-1]\n",
    "        ans = Int('ANS')\n",
    "        self.constraints.add(ans == rv)\n",
    "        if self.constraints.check() == sat:\n",
    "            model = self.constraints.model()\n",
    "            return rv, model[ans], model\n",
    "        else:\n",
    "            return rv, None, None"
   ]
  },
  {
   "cell_type": "code",
   "execution_count": 13,
   "id": "797646eb",
   "metadata": {},
   "outputs": [
    {
     "data": {
      "text/plain": [
       "(z + y - x, 5, [ANS = 5, y = 0, x = 0, z = 5])"
      ]
     },
     "execution_count": 13,
     "metadata": {},
     "output_type": "execute_result"
    }
   ],
   "source": [
    "mem = [0 for x in range(5)]\n",
    "mem[4] = Int('z')\n",
    "m = SymReadonlyMem([PUSH(Int('x')), PUSH(Int('y')), PUSH(4), MLOAD(), ADD(), SUB(), ASSERT(5)], mem)\n",
    "m.run()"
   ]
  },
  {
   "cell_type": "code",
   "execution_count": 22,
   "id": "e176676f",
   "metadata": {},
   "outputs": [],
   "source": [
    "from dataclasses import dataclass\n",
    "from z3 import *\n",
    "\n",
    "@dataclass\n",
    "class ADD:\n",
    "    pass\n",
    "\n",
    "@dataclass\n",
    "class SUB:\n",
    "    pass\n",
    "\n",
    "@dataclass\n",
    "class PUSH:\n",
    "    n: int\n",
    "        \n",
    "@dataclass\n",
    "class MLOAD:\n",
    "    pass\n",
    "\n",
    "@dataclass\n",
    "class ASSERT:\n",
    "    n: int\n",
    "\n",
    "class SymReadonlyMemSymIndex:\n",
    "    def __init__(self, code):\n",
    "        self.pc = 0\n",
    "        self.code = code\n",
    "        self.stack = []\n",
    "        # XXX\n",
    "        self.memory = Function('memory', IntSort(), IntSort())\n",
    "        self.constraints = Solver()\n",
    "        \n",
    "    def step(self):\n",
    "        instruction = self.code[self.pc]\n",
    "        self.pc += 1\n",
    "        match instruction:\n",
    "            case ADD():\n",
    "                self.stack.append(self.stack.pop() + self.stack.pop())\n",
    "            case SUB():\n",
    "                self.stack.append(self.stack.pop() - self.stack.pop())\n",
    "            case PUSH(n):\n",
    "                self.stack.append(n)\n",
    "            case MLOAD():\n",
    "                # XXX\n",
    "                self.stack.append(self.memory(self.stack.pop()))\n",
    "            case ASSERT(n):\n",
    "                self.constraints.add(self.stack[-1] == n)                \n",
    "            case _:\n",
    "                assert False\n",
    "                \n",
    "    def run(self):\n",
    "        while self.pc < len(self.code):\n",
    "            self.step()\n",
    "\n",
    "        rv = self.stack[-1]\n",
    "        ans = Int('ANS')\n",
    "        self.constraints.add(ans == rv)\n",
    "        if self.constraints.check() == sat:\n",
    "            model = self.constraints.model()\n",
    "            return rv, model[ans], model\n",
    "        else:\n",
    "            return rv, None, None"
   ]
  },
  {
   "cell_type": "code",
   "execution_count": 23,
   "id": "c3a8ac3c",
   "metadata": {},
   "outputs": [
    {
     "data": {
      "text/plain": [
       "(memory(4) + y - x, 5, [ANS = 5, x = 0, y = 5, memory = [else -> 0]])"
      ]
     },
     "execution_count": 23,
     "metadata": {},
     "output_type": "execute_result"
    }
   ],
   "source": [
    "m = SymReadonlyMemSymIndex([PUSH(Int('x')), PUSH(Int('y')), PUSH(4), MLOAD(), ADD(), SUB(), ASSERT(5)])\n",
    "m.run()"
   ]
  },
  {
   "cell_type": "code",
   "execution_count": 33,
   "id": "62e2fc99",
   "metadata": {},
   "outputs": [
    {
     "data": {
      "text/plain": [
       "(memory(2) + memory(1) - memory(0),\n",
       " 4,\n",
       " [ANS = 4, memory = [1 -> 0, 0 -> 1, else -> 5]])"
      ]
     },
     "execution_count": 33,
     "metadata": {},
     "output_type": "execute_result"
    }
   ],
   "source": [
    "m = SymReadonlyMemSymIndex([\n",
    "    # x\n",
    "    PUSH(0), MLOAD(),\n",
    "    # y\n",
    "    PUSH(1), MLOAD(),\n",
    "    # z\n",
    "    PUSH(2), MLOAD(),\n",
    "    ADD(),\n",
    "    # (y + z) == 5\n",
    "    ASSERT(5),\n",
    "    SUB(),\n",
    "    # (y + z) - x == 4\n",
    "    ASSERT(4)\n",
    "])\n",
    "m.run()"
   ]
  },
  {
   "cell_type": "markdown",
   "id": "5aa0da32",
   "metadata": {},
   "source": [
    "### Read/Write memory"
   ]
  },
  {
   "cell_type": "code",
   "execution_count": 70,
   "id": "d9c71e8d",
   "metadata": {},
   "outputs": [],
   "source": [
    "from dataclasses import dataclass\n",
    "\n",
    "@dataclass\n",
    "class ADD:\n",
    "    pass\n",
    "\n",
    "@dataclass\n",
    "class SUB:\n",
    "    pass\n",
    "\n",
    "@dataclass\n",
    "class PUSH:\n",
    "    n: int\n",
    "        \n",
    "@dataclass\n",
    "class MLOAD:\n",
    "    pass\n",
    "\n",
    "@dataclass\n",
    "class MSTORE:\n",
    "    pass\n",
    "\n",
    "class RWMem:\n",
    "    def __init__(self, code, memory):\n",
    "        self.pc = 0\n",
    "        self.code = code\n",
    "        self.stack = []\n",
    "        self.memory = memory\n",
    "        \n",
    "    def step(self):\n",
    "        instruction = self.code[self.pc]\n",
    "        self.pc += 1\n",
    "        match instruction:\n",
    "            case ADD():\n",
    "                self.stack.append(self.stack.pop() + self.stack.pop())\n",
    "            case SUB():\n",
    "                self.stack.append(self.stack.pop() - self.stack.pop())\n",
    "            case PUSH(n):\n",
    "                self.stack.append(n)\n",
    "            case MLOAD():\n",
    "                self.stack.append(self.memory[self.stack.pop()])\n",
    "            case MSTORE():\n",
    "                # XXX\n",
    "                idx = self.stack.pop()\n",
    "                val = self.stack.pop()\n",
    "                self.memory[idx] = val\n",
    "            case _:\n",
    "                assert False\n",
    "                \n",
    "    def run(self):\n",
    "        while self.pc < len(self.code):\n",
    "            self.step()\n",
    "        return self.stack[-1]"
   ]
  },
  {
   "cell_type": "code",
   "execution_count": 71,
   "id": "ff23b10c",
   "metadata": {},
   "outputs": [
    {
     "data": {
      "text/plain": [
       "4"
      ]
     },
     "execution_count": 71,
     "metadata": {},
     "output_type": "execute_result"
    }
   ],
   "source": [
    "mem = [0 for x in range(5)]\n",
    "\n",
    "m = RWMem([\n",
    "    PUSH(1),\n",
    "    PUSH(2),\n",
    "    PUSH(3), PUSH(0), MSTORE(),\n",
    "    PUSH(0), MLOAD(),\n",
    "    ADD(), \n",
    "    SUB(), \n",
    "], mem)\n",
    "\n",
    "m.run()"
   ]
  },
  {
   "cell_type": "code",
   "execution_count": 72,
   "id": "96ea09d9",
   "metadata": {},
   "outputs": [],
   "source": [
    "from dataclasses import dataclass\n",
    "from z3 import *\n",
    "\n",
    "@dataclass\n",
    "class ADD:\n",
    "    pass\n",
    "\n",
    "@dataclass\n",
    "class SUB:\n",
    "    pass\n",
    "\n",
    "@dataclass\n",
    "class PUSH:\n",
    "    n: int\n",
    "        \n",
    "@dataclass\n",
    "class MLOAD:\n",
    "    pass\n",
    "\n",
    "@dataclass\n",
    "class MSTORE:\n",
    "    pass\n",
    "\n",
    "@dataclass\n",
    "class ASSERT:\n",
    "    n: int\n",
    "\n",
    "class SymRWMem:\n",
    "    def __init__(self, code):\n",
    "        self.pc = 0\n",
    "        self.code = code\n",
    "        self.stack = []\n",
    "        self.memory = Function('memory', IntSort(), IntSort())\n",
    "        self.constraints = Solver()\n",
    "        \n",
    "    def step(self):\n",
    "        instruction = self.code[self.pc]\n",
    "        self.pc += 1\n",
    "        match instruction:\n",
    "            case ADD():\n",
    "                self.stack.append(self.stack.pop() + self.stack.pop())\n",
    "            case SUB():\n",
    "                self.stack.append(self.stack.pop() - self.stack.pop())\n",
    "            case PUSH(n):\n",
    "                self.stack.append(n)\n",
    "            case MLOAD():\n",
    "                self.stack.append(self.memory(self.stack.pop()))\n",
    "            case MSTORE():\n",
    "                # XXX\n",
    "                idx = self.stack.pop()\n",
    "                val = self.stack.pop()                \n",
    "                self.constraints.add(self.memory(idx) == val)\n",
    "            case ASSERT(n):\n",
    "                self.constraints.add(self.stack[-1] == n)                \n",
    "            case _:\n",
    "                assert False\n",
    "                \n",
    "    def run(self):\n",
    "        while self.pc < len(self.code):\n",
    "            self.step()\n",
    "\n",
    "        rv = self.stack[-1]\n",
    "        ans = Int('ANS')\n",
    "        self.constraints.add(ans == rv)\n",
    "        if self.constraints.check() == sat:\n",
    "            model = self.constraints.model()\n",
    "            return rv, model[ans], model\n",
    "        else:\n",
    "            return rv, None, None"
   ]
  },
  {
   "cell_type": "code",
   "execution_count": 74,
   "id": "64d5177a",
   "metadata": {},
   "outputs": [
    {
     "data": {
      "text/plain": [
       "(memory(0) + 2 - 1, 4, [ANS = 4, x = 3, memory = [else -> 3]])"
      ]
     },
     "execution_count": 74,
     "metadata": {},
     "output_type": "execute_result"
    }
   ],
   "source": [
    "m = SymRWMem([\n",
    "    PUSH(1),\n",
    "    PUSH(2),\n",
    "    PUSH(Int('x')), PUSH(0), MSTORE(),\n",
    "    PUSH(0), MLOAD(),\n",
    "    ADD(), \n",
    "    SUB(), \n",
    "    ASSERT(4)\n",
    "])\n",
    "m.run()"
   ]
  },
  {
   "cell_type": "code",
   "execution_count": 75,
   "id": "2cfda2ea",
   "metadata": {},
   "outputs": [
    {
     "data": {
      "text/plain": [
       "(memory(idx) + 2 - 1, 4, [idx = 0, ANS = 4, val = 3, memory = [else -> 3]])"
      ]
     },
     "execution_count": 75,
     "metadata": {},
     "output_type": "execute_result"
    }
   ],
   "source": [
    "idx = Int('idx')\n",
    "\n",
    "m = SymRWMem([\n",
    "    PUSH(1),\n",
    "    PUSH(2),\n",
    "    PUSH(Int('val')), PUSH(idx), MSTORE(),\n",
    "    PUSH(idx), MLOAD(),\n",
    "    ADD(), \n",
    "    SUB(),\n",
    "    ASSERT(4)\n",
    "])\n",
    "\n",
    "m.constraints\n",
    "m.run()"
   ]
  },
  {
   "cell_type": "markdown",
   "id": "b8a48319",
   "metadata": {},
   "source": [
    "### Conditionals\n",
    "### Conditional Jumps\n",
    "### A more realistic model of memory using Bit Vectors"
   ]
  }
 ],
 "metadata": {
  "kernelspec": {
   "display_name": "Python 3 (ipykernel)",
   "language": "python",
   "name": "python3"
  },
  "language_info": {
   "codemirror_mode": {
    "name": "ipython",
    "version": 3
   },
   "file_extension": ".py",
   "mimetype": "text/x-python",
   "name": "python",
   "nbconvert_exporter": "python",
   "pygments_lexer": "ipython3",
   "version": "3.10.2"
  }
 },
 "nbformat": 4,
 "nbformat_minor": 5
}
